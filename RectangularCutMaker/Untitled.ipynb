{
 "cells": [
  {
   "cell_type": "code",
   "execution_count": 1,
   "id": "4ec56490-61da-43c7-9bdf-d13805feaf61",
   "metadata": {},
   "outputs": [],
   "source": [
    "import boost_histogram as bh\n",
    "import numpy as np"
   ]
  },
  {
   "cell_type": "code",
   "execution_count": 2,
   "id": "32412860-cca4-4f0e-a02a-ab1d4fda12ef",
   "metadata": {},
   "outputs": [],
   "source": [
    "vals = np.random.rand(3,1000)\n",
    "fixed = np.ones(1000) * 1/2\n",
    "weight = np.random.randint(1,20,1000)"
   ]
  },
  {
   "cell_type": "code",
   "execution_count": 3,
   "id": "4d5ecb57-6604-4fb9-96d9-4edc4b3e2341",
   "metadata": {},
   "outputs": [],
   "source": [
    "h = bh.Histogram(bh.axis.Regular(10,0,1), bh.axis.Regular(10,0,1), bh.axis.Regular(10,0,1), storage = bh.storage.Weight())"
   ]
  },
  {
   "cell_type": "code",
   "execution_count": 4,
   "id": "dfc121a0-2198-46a2-941a-d01e61d78dd1",
   "metadata": {},
   "outputs": [
    {
     "data": {
      "text/plain": [
       "Histogram(\n",
       "  Regular(10, 0, 1),\n",
       "  Regular(10, 0, 1),\n",
       "  Regular(10, 0, 1),\n",
       "  storage=Weight()) # Sum: WeightedSum(value=9939, variance=129317)"
      ]
     },
     "execution_count": 4,
     "metadata": {},
     "output_type": "execute_result"
    }
   ],
   "source": [
    "h.fill(*vals, weight = weight)"
   ]
  },
  {
   "cell_type": "code",
   "execution_count": 5,
   "id": "a54dd788-318b-4f5d-867c-261412119fde",
   "metadata": {},
   "outputs": [],
   "source": [
    "wtf = h.view().value"
   ]
  },
  {
   "cell_type": "code",
   "execution_count": 25,
   "id": "be3b7292-73b3-46b5-bb9a-b88a05560a8f",
   "metadata": {},
   "outputs": [],
   "source": [
    "ind = np.where(h.axes[0].edges < 0.4)[0][-1]"
   ]
  },
  {
   "cell_type": "code",
   "execution_count": 26,
   "id": "4e6a2b33-dc80-4c1c-a7cc-7b47b573ebed",
   "metadata": {},
   "outputs": [
    {
     "data": {
      "text/plain": [
       "array([[[458., 256., 272.],\n",
       "        [ 36., 367.,   0.],\n",
       "        [493.,   0.,  73.]],\n",
       "\n",
       "       [[  0.,  64.,   0.],\n",
       "        [ 36., 121.,   4.],\n",
       "        [557.,   0., 324.]],\n",
       "\n",
       "       [[234.,   0., 361.],\n",
       "        [  0.,   0.,  64.],\n",
       "        [101., 390.,   0.]]])"
      ]
     },
     "execution_count": 26,
     "metadata": {},
     "output_type": "execute_result"
    }
   ],
   "source": [
    "h.view().variance[:ind,:ind,:ind]"
   ]
  },
  {
   "cell_type": "code",
   "execution_count": null,
   "id": "af6ee8f4-8036-4eb0-9e88-a30edc701e81",
   "metadata": {},
   "outputs": [],
   "source": []
  }
 ],
 "metadata": {
  "kernelspec": {
   "display_name": "Python 3 (ipykernel)",
   "language": "python",
   "name": "python3"
  },
  "language_info": {
   "codemirror_mode": {
    "name": "ipython",
    "version": 3
   },
   "file_extension": ".py",
   "mimetype": "text/x-python",
   "name": "python",
   "nbconvert_exporter": "python",
   "pygments_lexer": "ipython3",
   "version": "3.11.3"
  }
 },
 "nbformat": 4,
 "nbformat_minor": 5
}

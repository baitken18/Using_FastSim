{
 "cells": [
  {
   "cell_type": "code",
   "execution_count": 1,
   "id": "2b6dba63-24d9-432b-8356-82481085f13c",
   "metadata": {},
   "outputs": [],
   "source": [
    "import pickle\n",
    "import numpy as np\n",
    "import matplotlib.pyplot as plt\n",
    "import awkward as ak\n",
    "import boost_histogram as bh"
   ]
  },
  {
   "cell_type": "code",
   "execution_count": 2,
   "id": "df993552-34df-4217-98ca-dffb08b34b91",
   "metadata": {},
   "outputs": [],
   "source": [
    "import glob"
   ]
  },
  {
   "cell_type": "code",
   "execution_count": 3,
   "id": "3e17c184-f279-46a7-bf78-2ea2e7ab41c9",
   "metadata": {},
   "outputs": [
    {
     "data": {
      "text/plain": [
       "['../NeutrinoResults\\\\nuebar_0-1_results.pickle',\n",
       " '../NeutrinoResults\\\\nuebar_1-2_results.pickle',\n",
       " '../NeutrinoResults\\\\nuebar_2-10_results.pickle',\n",
       " '../NeutrinoResults\\\\nue_0-1_results.pickle',\n",
       " '../NeutrinoResults\\\\nue_1-2_results.pickle',\n",
       " '../NeutrinoResults\\\\nue_2-10_results.pickle',\n",
       " '../NeutrinoResults\\\\numubar_0-1_results.pickle',\n",
       " '../NeutrinoResults\\\\numubar_1-2_results.pickle',\n",
       " '../NeutrinoResults\\\\numubar_2-10_results.pickle',\n",
       " '../NeutrinoResults\\\\numu_0-1_results.pickle',\n",
       " '../NeutrinoResults\\\\numu_1-2_results.pickle',\n",
       " '../NeutrinoResults\\\\numu_2-10_results.pickle']"
      ]
     },
     "execution_count": 3,
     "metadata": {},
     "output_type": "execute_result"
    }
   ],
   "source": [
    "glob.glob('../NeutrinoResults/*.pickle')"
   ]
  },
  {
   "cell_type": "code",
   "execution_count": 4,
   "id": "664b318c-9f90-4e27-9be3-c5b79ac8a862",
   "metadata": {},
   "outputs": [],
   "source": [
    "with open('../NeutrinoResults/nue_2-10_results.pickle', 'rb') as f:\n",
    "    data = pickle.load(f)"
   ]
  },
  {
   "cell_type": "code",
   "execution_count": 5,
   "id": "40fd2247-15a7-485f-a4de-134dac81f823",
   "metadata": {},
   "outputs": [
    {
     "data": {
      "text/plain": [
       "{'Ev': array([6.57667676, 8.26988116, 9.92514739, ..., 8.12989008, 8.27697972,\n",
       "        7.08737894]),\n",
       " 'weight': array([1.06186566e-05, 5.17558534e-06, 2.83683342e-06, ...,\n",
       "        5.43467672e-06, 5.12572400e-06, 8.45270628e-06]),\n",
       " 'position': array([ 27.13664787,  91.84181194,  60.69295381, ..., -19.51031411,\n",
       "         73.72855682,  83.79404005]),\n",
       " 'daughters': <Array [[[0.00618, ..., -1], ..., [...]], ...] type='100000 * var * var * f...'>}"
      ]
     },
     "execution_count": 5,
     "metadata": {},
     "output_type": "execute_result"
    }
   ],
   "source": []
  },
  {
   "cell_type": "code",
   "execution_count": null,
   "id": "8782ae0c-69e3-4357-8a7e-a0c9dc06df58",
   "metadata": {},
   "outputs": [],
   "source": []
  }
 ],
 "metadata": {
  "kernelspec": {
   "display_name": "Python 3 (ipykernel)",
   "language": "python",
   "name": "python3"
  },
  "language_info": {
   "codemirror_mode": {
    "name": "ipython",
    "version": 3
   },
   "file_extension": ".py",
   "mimetype": "text/x-python",
   "name": "python",
   "nbconvert_exporter": "python",
   "pygments_lexer": "ipython3",
   "version": "3.11.3"
  }
 },
 "nbformat": 4,
 "nbformat_minor": 5
}

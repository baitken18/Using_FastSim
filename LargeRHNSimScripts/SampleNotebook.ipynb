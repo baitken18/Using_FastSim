{
 "cells": [
  {
   "cell_type": "code",
   "execution_count": 1,
   "id": "eb8c3338-aa16-4a6a-8936-6c6ca9b79f2f",
   "metadata": {},
   "outputs": [],
   "source": [
    "import pickle\n",
    "import matplotlib.pyplot as plt\n",
    "import numpy as np\n",
    "import awkward as ak"
   ]
  },
  {
   "cell_type": "code",
   "execution_count": 2,
   "id": "25a45270-96f6-421c-ace8-4249e2223ade",
   "metadata": {},
   "outputs": [],
   "source": [
    "import sys\n",
    "sys.path.insert(0, '../MomentumExtrapolation/')\n",
    "from Opening_Angle_Histogram import calculate_opening_angle\n",
    "from Closest_Approach_Histogram import calculate_shortest_distance"
   ]
  },
  {
   "cell_type": "code",
   "execution_count": 3,
   "id": "08260abc-fe75-4cd6-af0a-469b9c21f9c8",
   "metadata": {},
   "outputs": [],
   "source": [
    "with open('../MomentumExtrapolation/Simulation_Data_Pack0.pickle', 'rb') as f:\n",
    "    data = pickle.load(f)['Data']"
   ]
  },
  {
   "cell_type": "code",
   "execution_count": 4,
   "id": "b5106937-d300-4f1e-84c7-e4e8fac4bec2",
   "metadata": {},
   "outputs": [],
   "source": [
    "angles, weight_bool = calculate_opening_angle(data)\n",
    "weights = data['weight'][weight_bool]"
   ]
  },
  {
   "cell_type": "code",
   "execution_count": 5,
   "id": "6a23dd44-4738-492d-84cd-5a59d0505242",
   "metadata": {},
   "outputs": [],
   "source": [
    "plt.style.use('science')\n",
    "plt.rcParams.update({'figure.figsize':(6,4), 'legend.frameon':True, 'font.size':14})"
   ]
  },
  {
   "cell_type": "code",
   "execution_count": 6,
   "id": "e9a85922-d964-4fc6-88a8-74e0605b7129",
   "metadata": {},
   "outputs": [
    {
     "ename": "NameError",
     "evalue": "name 'h' is not defined",
     "output_type": "error",
     "traceback": [
      "\u001b[1;31m---------------------------------------------------------------------------\u001b[0m",
      "\u001b[1;31mNameError\u001b[0m                                 Traceback (most recent call last)",
      "Cell \u001b[1;32mIn[6], line 1\u001b[0m\n\u001b[1;32m----> 1\u001b[0m h[\u001b[38;5;241m0\u001b[39m] \u001b[38;5;241m=\u001b[39m np\u001b[38;5;241m.\u001b[39mappend(np\u001b[38;5;241m.\u001b[39mappend(np\u001b[38;5;241m.\u001b[39mzeros(\u001b[38;5;241m1\u001b[39m),h[\u001b[38;5;241m0\u001b[39m]), np\u001b[38;5;241m.\u001b[39mzeros(\u001b[38;5;241m1\u001b[39m))\n",
      "\u001b[1;31mNameError\u001b[0m: name 'h' is not defined"
     ]
    }
   ],
   "source": [
    "h[0] = np.append(np.append(np.zeros(1),h[0]), np.zeros(1))"
   ]
  },
  {
   "cell_type": "code",
   "execution_count": 8,
   "id": "638fa7d4-90b6-4df2-81fc-45ff6f8bd4a5",
   "metadata": {},
   "outputs": [
    {
     "data": {
      "text/plain": [
       "array([-0.1,  0. ,  0.1,  0.2,  0.3,  0.4,  0.5,  0.6,  0.7,  0.8,  0.9,\n",
       "        1. ,  1.1,  1.2,  1.3,  1.4,  1.5,  1.6,  1.7,  1.8,  1.9,  2. ,\n",
       "        2.1,  2.2,  2.3,  2.4,  2.5,  2.6,  2.7,  2.8,  2.9,  3. ,  3.1])"
      ]
     },
     "execution_count": 8,
     "metadata": {},
     "output_type": "execute_result"
    }
   ],
   "source": [
    "h[1]"
   ]
  },
  {
   "cell_type": "code",
   "execution_count": 11,
   "id": "868ac0aa-cbda-48db-b573-0511c728f856",
   "metadata": {},
   "outputs": [
    {
     "data": {
      "text/plain": [
       "array([0.05, 0.15, 0.25, 0.35, 0.45, 0.55, 0.65, 0.75, 0.85, 0.95, 1.05,\n",
       "       1.15, 1.25, 1.35, 1.45, 1.55, 1.65, 1.75, 1.85, 1.95, 2.05, 2.15,\n",
       "       2.25, 2.35, 2.45, 2.55, 2.65, 2.75, 2.85, 2.95, 3.05])"
      ]
     },
     "execution_count": 11,
     "metadata": {},
     "output_type": "execute_result"
    }
   ],
   "source": [
    "h[1][1:-1] + np.diff(h[1])[0]/2"
   ]
  },
  {
   "cell_type": "code",
   "execution_count": 17,
   "id": "d9453c8a-8265-4305-88c6-198f0b834fde",
   "metadata": {},
   "outputs": [
    {
     "data": {
      "text/plain": [
       "array([0.00000000e+00, 1.48137073e+09, 6.42835606e+08, 6.17045625e+08,\n",
       "       1.34066826e+09, 1.95697387e+08, 2.23570529e+08, 4.19266497e+08,\n",
       "       3.76790177e+08, 1.41961473e+03, 9.91751932e+08, 4.19265787e+08,\n",
       "       3.76789467e+08, 1.95695968e+08, 8.49526384e+07, 7.09807364e+02,\n",
       "       2.23569819e+08, 2.23570529e+08, 5.57883677e+08, 8.49533482e+07,\n",
       "       4.24770290e+07, 4.76345283e+08, 4.24777388e+07, 8.81007893e+08,\n",
       "       2.66046848e+08, 4.19267916e+08, 4.78429154e+08, 2.09633035e+09,\n",
       "       1.14705616e+09, 2.19588688e+09, 2.83664074e+09, 2.73916596e+09,\n",
       "       0.00000000e+00])"
      ]
     },
     "execution_count": 17,
     "metadata": {},
     "output_type": "execute_result"
    }
   ],
   "source": [
    "h[0]"
   ]
  },
  {
   "cell_type": "code",
   "execution_count": 21,
   "id": "7df4344a-d356-4cfa-909f-76573813c235",
   "metadata": {},
   "outputs": [
    {
     "data": {
      "text/plain": [
       "Text(0, 0.5, 'Number of Vertices')"
      ]
     },
     "execution_count": 21,
     "metadata": {},
     "output_type": "execute_result"
    },
    {
     "data": {
      "image/png": "[encoded data removed]",
      "text/plain": [
       "<Figure size 600x400 with 1 Axes>"
      ]
     },
     "metadata": {},
     "output_type": "display_data"
    }
   ],
   "source": [
    "fig, ax = plt.subplots(1,1)\n",
    "h = list(np.histogram(angles, bins = np.arange(0, np.pi, 0.1), weights = weights))\n",
    "h[0] = np.append(np.append(np.zeros(1), h[0]), np.zeros(1))\n",
    "h[1] = np.append(np.zeros(1),h[1])#h[1][0] - np.diff(h[1])[0], h[1])\n",
    "l = ax.step(h[1]/np.pi, h[0], where = 'post')\n",
    "ax.errorbar((h[1][1:-1] + np.diff(h[1])[1]/2)/np.pi, h[0][1:-1], yerr = np.sqrt(h[0][1:-1]), fmt = '.', color = l[0].get_color())\n",
    "ax.set_xlabel(r'Opening Angle ($\\pi$ rad)')\n",
    "ax.set_ylabel('Number of Vertices')"
   ]
  },
  {
   "cell_type": "code",
   "execution_count": 83,
   "id": "10287d37-f1c5-4bf6-b9b3-6555c2ee362c",
   "metadata": {},
   "outputs": [
    {
     "data": {
      "text/plain": [
       "array([-0.5,  0. ,  0.5,  1. ,  1.5,  2. ,  2.5,  3. ,  3.5])"
      ]
     },
     "execution_count": 83,
     "metadata": {},
     "output_type": "execute_result"
    }
   ],
   "source": [
    "ax.get_xticks()"
   ]
  },
  {
   "cell_type": "code",
   "execution_count": 74,
   "id": "45079ac4-8e65-4d52-9fba-167f6b52232f",
   "metadata": {},
   "outputs": [
    {
     "data": {
      "text/plain": [
       "(array([1.48137073e+09, 6.42835606e+08, 6.17045625e+08, 1.34066826e+09,\n",
       "        1.95697387e+08, 2.23570529e+08, 4.19266497e+08, 3.76790177e+08,\n",
       "        1.41961473e+03, 9.91751932e+08, 4.19265787e+08, 3.76789467e+08,\n",
       "        1.95695968e+08, 8.49526384e+07, 7.09807364e+02, 2.23569819e+08,\n",
       "        2.23570529e+08, 5.57883677e+08, 8.49533482e+07, 4.24770290e+07,\n",
       "        4.76345283e+08, 4.24777388e+07, 8.81007893e+08, 2.66046848e+08,\n",
       "        4.19267916e+08, 4.78429154e+08, 2.09633035e+09, 1.14705616e+09,\n",
       "        2.19588688e+09, 2.83664074e+09, 2.73916596e+09]),\n",
       " array([0. , 0.1, 0.2, 0.3, 0.4, 0.5, 0.6, 0.7, 0.8, 0.9, 1. , 1.1, 1.2,\n",
       "        1.3, 1.4, 1.5, 1.6, 1.7, 1.8, 1.9, 2. , 2.1, 2.2, 2.3, 2.4, 2.5,\n",
       "        2.6, 2.7, 2.8, 2.9, 3. , 3.1]),\n",
       " [<matplotlib.patches.Polygon at 0x15dd47d9150>])"
      ]
     },
     "execution_count": 74,
     "metadata": {},
     "output_type": "execute_result"
    },
    {
     "data": {
      "image/png": "[encoded data removed]",
      "text/plain": [
       "<Figure size 600x400 with 1 Axes>"
      ]
     },
     "metadata": {},
     "output_type": "display_data"
    }
   ],
   "source": [
    "plt.hist(angles, bins = np.arange(0, np.pi, 0.1), weights = weights, histtype = 'step')"
   ]
  },
  {
   "cell_type": "code",
   "execution_count": 46,
   "id": "c37b6117-2b41-429d-ad7e-734ef24840ac",
   "metadata": {},
   "outputs": [
    {
     "ename": "AttributeError",
     "evalue": "'Polygon' object has no attribute 'color'",
     "output_type": "error",
     "traceback": [
      "\u001b[1;31m---------------------------------------------------------------------------\u001b[0m",
      "\u001b[1;31mAttributeError\u001b[0m                            Traceback (most recent call last)",
      "Cell \u001b[1;32mIn[46], line 1\u001b[0m\n\u001b[1;32m----> 1\u001b[0m h[\u001b[38;5;241m2\u001b[39m][\u001b[38;5;241m0\u001b[39m]\u001b[38;5;241m.\u001b[39mcolor\n",
      "\u001b[1;31mAttributeError\u001b[0m: 'Polygon' object has no attribute 'color'"
     ]
    }
   ],
   "source": [
    "h[2][0].color"
   ]
  },
  {
   "cell_type": "code",
   "execution_count": 51,
   "id": "83aa49bf-9cdf-4d74-b58b-d54307770310",
   "metadata": {},
   "outputs": [
    {
     "ename": "AttributeError",
     "evalue": "'Polygon' object has no attribute 'get_color'",
     "output_type": "error",
     "traceback": [
      "\u001b[1;31m---------------------------------------------------------------------------\u001b[0m",
      "\u001b[1;31mAttributeError\u001b[0m                            Traceback (most recent call last)",
      "Cell \u001b[1;32mIn[51], line 1\u001b[0m\n\u001b[1;32m----> 1\u001b[0m h[\u001b[38;5;241m2\u001b[39m][\u001b[38;5;241m0\u001b[39m]\u001b[38;5;241m.\u001b[39mget_color()\n",
      "\u001b[1;31mAttributeError\u001b[0m: 'Polygon' object has no attribute 'get_color'"
     ]
    }
   ],
   "source": [
    "h[2][0].get_color()"
   ]
  },
  {
   "cell_type": "code",
   "execution_count": 60,
   "id": "04cd748c-f735-41ce-9dcc-b341444fbf37",
   "metadata": {},
   "outputs": [
    {
     "ename": "AttributeError",
     "evalue": "'Polygon' object has no attribute 'getcolor'",
     "output_type": "error",
     "traceback": [
      "\u001b[1;31m---------------------------------------------------------------------------\u001b[0m",
      "\u001b[1;31mAttributeError\u001b[0m                            Traceback (most recent call last)",
      "Cell \u001b[1;32mIn[60], line 1\u001b[0m\n\u001b[1;32m----> 1\u001b[0m h[\u001b[38;5;241m2\u001b[39m][\u001b[38;5;241m0\u001b[39m]\u001b[38;5;241m.\u001b[39mgetcolor()\n",
      "\u001b[1;31mAttributeError\u001b[0m: 'Polygon' object has no attribute 'getcolor'"
     ]
    }
   ],
   "source": [
    "h[2][0].getcolor()"
   ]
  },
  {
   "cell_type": "code",
   "execution_count": 131,
   "id": "3514b339-381f-4ad8-a2c6-d5a96cd13fc5",
   "metadata": {},
   "outputs": [],
   "source": [
    "mag_3p = np.linalg.norm(data['momentum'][:,1:], axis = 1)[weight_bool]"
   ]
  },
  {
   "cell_type": "code",
   "execution_count": 132,
   "id": "248af09a-5415-4c64-818b-9fe411b02eb7",
   "metadata": {},
   "outputs": [
    {
     "data": {
      "text/plain": [
       "(217,)"
      ]
     },
     "execution_count": 132,
     "metadata": {},
     "output_type": "execute_result"
    }
   ],
   "source": [
    "mag_3p.shape"
   ]
  },
  {
   "cell_type": "code",
   "execution_count": 150,
   "id": "34b98e9f-62cb-4e99-9bd9-6e0c8461f7a4",
   "metadata": {},
   "outputs": [
    {
     "name": "stdout",
     "output_type": "stream",
     "text": [
      "['magma', 'inferno', 'plasma', 'viridis', 'cividis', 'twilight', 'twilight_shifted', 'turbo', 'Blues', 'BrBG', 'BuGn', 'BuPu', 'CMRmap', 'GnBu', 'Greens', 'Greys', 'OrRd', 'Oranges', 'PRGn', 'PiYG', 'PuBu', 'PuBuGn', 'PuOr', 'PuRd', 'Purples', 'RdBu', 'RdGy', 'RdPu', 'RdYlBu', 'RdYlGn', 'Reds', 'Spectral', 'Wistia', 'YlGn', 'YlGnBu', 'YlOrBr', 'YlOrRd', 'afmhot', 'autumn', 'binary', 'bone', 'brg', 'bwr', 'cool', 'coolwarm', 'copper', 'cubehelix', 'flag', 'gist_earth', 'gist_gray', 'gist_heat', 'gist_ncar', 'gist_rainbow', 'gist_stern', 'gist_yarg', 'gnuplot', 'gnuplot2', 'gray', 'hot', 'hsv', 'jet', 'nipy_spectral', 'ocean', 'pink', 'prism', 'rainbow', 'seismic', 'spring', 'summer', 'terrain', 'winter', 'Accent', 'Dark2', 'Paired', 'Pastel1', 'Pastel2', 'Set1', 'Set2', 'Set3', 'tab10', 'tab20', 'tab20b', 'tab20c', 'magma_r', 'inferno_r', 'plasma_r', 'viridis_r', 'cividis_r', 'twilight_r', 'twilight_shifted_r', 'turbo_r', 'Blues_r', 'BrBG_r', 'BuGn_r', 'BuPu_r', 'CMRmap_r', 'GnBu_r', 'Greens_r', 'Greys_r', 'OrRd_r', 'Oranges_r', 'PRGn_r', 'PiYG_r', 'PuBu_r', 'PuBuGn_r', 'PuOr_r', 'PuRd_r', 'Purples_r', 'RdBu_r', 'RdGy_r', 'RdPu_r', 'RdYlBu_r', 'RdYlGn_r', 'Reds_r', 'Spectral_r', 'Wistia_r', 'YlGn_r', 'YlGnBu_r', 'YlOrBr_r', 'YlOrRd_r', 'afmhot_r', 'autumn_r', 'binary_r', 'bone_r', 'brg_r', 'bwr_r', 'cool_r', 'coolwarm_r', 'copper_r', 'cubehelix_r', 'flag_r', 'gist_earth_r', 'gist_gray_r', 'gist_heat_r', 'gist_ncar_r', 'gist_rainbow_r', 'gist_stern_r', 'gist_yarg_r', 'gnuplot_r', 'gnuplot2_r', 'gray_r', 'hot_r', 'hsv_r', 'jet_r', 'nipy_spectral_r', 'ocean_r', 'pink_r', 'prism_r', 'rainbow_r', 'seismic_r', 'spring_r', 'summer_r', 'terrain_r', 'winter_r', 'Accent_r', 'Dark2_r', 'Paired_r', 'Pastel1_r', 'Pastel2_r', 'Set1_r', 'Set2_r', 'Set3_r', 'tab10_r', 'tab20_r', 'tab20b_r', 'tab20c_r']\n"
     ]
    }
   ],
   "source": [
    "print(plt.colormaps())"
   ]
  },
  {
   "cell_type": "code",
   "execution_count": 164,
   "id": "0547eb3c-4141-4fee-ba5e-541cada26272",
   "metadata": {},
   "outputs": [
    {
     "data": {
      "text/plain": [
       "<matplotlib.colorbar.Colorbar at 0x15de3aeb1d0>"
      ]
     },
     "execution_count": 164,
     "metadata": {},
     "output_type": "execute_result"
    },
    {
     "data": {
      "image/png": "[encoded data removed]",
      "text/plain": [
       "<Figure size 600x400 with 2 Axes>"
      ]
     },
     "metadata": {},
     "output_type": "display_data"
    }
   ],
   "source": [
    "fig, ax = plt.subplots(1,1)\n",
    "h = ax.hist2d(angles / np.pi, mag_3p, bins = [20,20], weights = weights, cmap = 'turbo')\n",
    "ax.set_xlabel(r'Angles [$\\pi$ rad]')\n",
    "ax.set_ylabel(r'$\\Vert p \\Vert$ [GeV]')\n",
    "fig.colorbar(h[3], ax = ax, label = 'Number of Vertices')"
   ]
  },
  {
   "cell_type": "code",
   "execution_count": 5,
   "id": "656ce728-5195-4e2f-8b03-82053c9c6f1b",
   "metadata": {},
   "outputs": [],
   "source": [
    "distances, at_least_1 = calculate_shortest_distance(data)\n",
    "angles, at_least_2 = calculate_opening_angle(data)"
   ]
  },
  {
   "cell_type": "code",
   "execution_count": 35,
   "id": "b3227d66-6190-4e2a-8534-d8448767179b",
   "metadata": {},
   "outputs": [],
   "source": [
    "data2 = dict()\n",
    "for key in data.keys():\n",
    "    if type(data[key]) != list:\n",
    "        data2[key] = data[key][at_least_2]"
   ]
  },
  {
   "cell_type": "code",
   "execution_count": 38,
   "id": "b986515d-371d-48c3-b557-4560e2a86eae",
   "metadata": {},
   "outputs": [],
   "source": [
    "distances, _ = calculate_shortest_distance(data2)"
   ]
  },
  {
   "cell_type": "code",
   "execution_count": 44,
   "id": "9d154c69-d54c-406b-aa12-089c3463e98a",
   "metadata": {},
   "outputs": [
    {
     "data": {
      "text/plain": [
       "<matplotlib.colorbar.Colorbar at 0x2730de12910>"
      ]
     },
     "execution_count": 44,
     "metadata": {},
     "output_type": "execute_result"
    },
    {
     "data": {
      "image/png": "[encoded data removed]",
      "text/plain": [
       "<Figure size 350x262.5 with 2 Axes>"
      ]
     },
     "metadata": {},
     "output_type": "display_data"
    }
   ],
   "source": [
    "fig, ax = plt.subplots(1,1)\n",
    "h = ax.hist2d(angles / np.pi, distances, bins = [10,10], weights = data2['weight'], cmap = 'turbo')\n",
    "ax.set_xlabel(r'Angles [$\\pi$ rad]')\n",
    "ax.set_ylabel('Shortest Distance [m]')\n",
    "fig.colorbar(h[3], ax = ax, label = 'Number of Vertices')"
   ]
  },
  {
   "cell_type": "code",
   "execution_count": 1,
   "id": "0733370b-418b-44a2-904b-9f013c2865de",
   "metadata": {},
   "outputs": [],
   "source": [
    "import glob\n",
    "import pickle"
   ]
  },
  {
   "cell_type": "code",
   "execution_count": 2,
   "id": "8971025a-7517-4838-8812-123c60d0b241",
   "metadata": {},
   "outputs": [],
   "source": [
    "files = glob.glob('*e-12.pickle')"
   ]
  },
  {
   "cell_type": "code",
   "execution_count": 3,
   "id": "37c06c55-efd2-46e3-abdb-a4f76066edc4",
   "metadata": {},
   "outputs": [],
   "source": [
    "with open(files[10], 'rb') as f:\n",
    "    data = pickle.load(f)['Data']"
   ]
  },
  {
   "cell_type": "code",
   "execution_count": 4,
   "id": "f40128aa-bc03-4c71-b98c-8c975fd52cf2",
   "metadata": {},
   "outputs": [],
   "source": [
    "from make_plots import main"
   ]
  },
  {
   "cell_type": "code",
   "execution_count": 5,
   "id": "22281ec3-2e8e-4376-8634-d4afd019c9d7",
   "metadata": {},
   "outputs": [],
   "source": [
    "main('sim_0.133352_6.158482110660267e-07.pickle', 'trial')"
   ]
  },
  {
   "cell_type": "code",
   "execution_count": null,
   "id": "4ccb2b0b-3261-4a32-b9ca-1d9280788a38",
   "metadata": {},
   "outputs": [],
   "source": []
  }
 ],
 "metadata": {
  "kernelspec": {
   "display_name": "Python 3 (ipykernel)",
   "language": "python",
   "name": "python3"
  },
  "language_info": {
   "codemirror_mode": {
    "name": "ipython",
    "version": 3
   },
   "file_extension": ".py",
   "mimetype": "text/x-python",
   "name": "python",
   "nbconvert_exporter": "python",
   "pygments_lexer": "ipython3",
   "version": "3.11.3"
  }
 },
 "nbformat": 4,
 "nbformat_minor": 5
}

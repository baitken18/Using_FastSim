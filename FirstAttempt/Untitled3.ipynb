{
 "cells": [
  {
   "cell_type": "code",
   "execution_count": 2,
   "id": "8599beec-d96f-43b0-8774-b533b57dbe3b",
   "metadata": {},
   "outputs": [],
   "source": [
    "import awkward as ak"
   ]
  },
  {
   "cell_type": "code",
   "execution_count": 9,
   "id": "1ab318c3-3d40-4fef-ad30-041c7f7cadfd",
   "metadata": {},
   "outputs": [],
   "source": [
    "var = ak.Array([[1,2,3],[1,2], [1],[1,3,9]])"
   ]
  },
  {
   "cell_type": "code",
   "execution_count": 1,
   "id": "5c56fcba-a0e8-4c92-856e-8412a8a7f274",
   "metadata": {},
   "outputs": [],
   "source": [
    "import numba"
   ]
  },
  {
   "cell_type": "code",
   "execution_count": 2,
   "id": "5d37a7a8-f12d-475b-b867-525e001fef65",
   "metadata": {},
   "outputs": [],
   "source": [
    "import timeit"
   ]
  },
  {
   "cell_type": "code",
   "execution_count": 4,
   "id": "1a0f4fa2-eacf-4ab9-83fa-b28481343d65",
   "metadata": {},
   "outputs": [
    {
     "name": "stdout",
     "output_type": "stream",
     "text": [
      "7.561286199954338\n"
     ]
    }
   ],
   "source": [
    "start = timeit.default_timer()\n",
    "for i in range(int(1e8)):\n",
    "    i / 2\n",
    "    \n",
    "end = timeit.default_timer()\n",
    "print(end - start)"
   ]
  },
  {
   "cell_type": "code",
   "execution_count": 5,
   "id": "05fec668-ef4e-44da-9400-f43feca28497",
   "metadata": {},
   "outputs": [
    {
     "name": "stdout",
     "output_type": "stream",
     "text": [
      "8.54809870000463\n"
     ]
    }
   ],
   "source": [
    "start = timeit.default_timer()\n",
    "for i in range(int(1e8)):\n",
    "    i * 0.5\n",
    "    \n",
    "end = timeit.default_timer()\n",
    "print(end - start)"
   ]
  },
  {
   "cell_type": "code",
   "execution_count": 7,
   "id": "32115ed4-ba73-4065-a46f-2047d28f2c8b",
   "metadata": {},
   "outputs": [],
   "source": [
    "@numba.jit('f8(f8)', nopython = True)\n",
    "def div_by_2(max_i):\n",
    "    for i in range(int(max_i)):\n",
    "        i / 2\n",
    "    return i / 2"
   ]
  },
  {
   "cell_type": "code",
   "execution_count": 8,
   "id": "83b7a0dd-b7f5-496a-a923-dd95cf992e04",
   "metadata": {},
   "outputs": [
    {
     "name": "stdout",
     "output_type": "stream",
     "text": [
      "6.620003841817379e-05\n"
     ]
    }
   ],
   "source": [
    "start = timeit.default_timer()\n",
    "div_by_2(1e8)\n",
    "end = timeit.default_timer()\n",
    "print(end - start)"
   ]
  },
  {
   "cell_type": "code",
   "execution_count": null,
   "id": "535a81e2-a85e-4e8d-b00b-939f502e9d2e",
   "metadata": {},
   "outputs": [],
   "source": []
  }
 ],
 "metadata": {
  "kernelspec": {
   "display_name": "Python 3 (ipykernel)",
   "language": "python",
   "name": "python3"
  },
  "language_info": {
   "codemirror_mode": {
    "name": "ipython",
    "version": 3
   },
   "file_extension": ".py",
   "mimetype": "text/x-python",
   "name": "python",
   "nbconvert_exporter": "python",
   "pygments_lexer": "ipython3",
   "version": "3.11.3"
  }
 },
 "nbformat": 4,
 "nbformat_minor": 5
}

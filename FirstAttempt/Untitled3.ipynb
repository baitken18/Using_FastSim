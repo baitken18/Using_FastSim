{
 "cells": [
  {
   "cell_type": "code",
   "execution_count": 2,
   "id": "8599beec-d96f-43b0-8774-b533b57dbe3b",
   "metadata": {},
   "outputs": [],
   "source": [
    "import awkward as ak"
   ]
  },
  {
   "cell_type": "code",
   "execution_count": 9,
   "id": "1ab318c3-3d40-4fef-ad30-041c7f7cadfd",
   "metadata": {},
   "outputs": [],
   "source": [
    "var = ak.Array([[1,2,3],[1,2], [1],[1,3,9]])"
   ]
  },
  {
   "cell_type": "code",
   "execution_count": 13,
   "id": "79a4a27c-9b56-412e-828c-92b3c09335a7",
   "metadata": {},
   "outputs": [
    {
     "data": {
      "text/plain": [
       "\u001b[1;31mType:\u001b[0m        Array\n",
       "\u001b[1;31mString form:\u001b[0m [[1, 2, 3], [1, 2], [1], [1, 3, 9]]\n",
       "\u001b[1;31mLength:\u001b[0m      4\n",
       "\u001b[1;31mFile:\u001b[0m        c:\\users\\baitk\\anaconda3\\envs\\spyder\\lib\\site-packages\\awkward\\highlevel.py\n",
       "\u001b[1;31mDocstring:\u001b[0m  \n",
       "Args:\n",
       "    data (#ak.contents.Content, #ak.Array, `np.ndarray`, `cp.ndarray`, `pyarrow.*`, str, dict, or iterable):\n",
       "        Data to wrap or convert into an array.\n",
       "           - If a NumPy array, the regularity of its dimensions is preserved\n",
       "             and the data are viewed, not copied.\n",
       "           - CuPy arrays are treated the same way as NumPy arrays except that\n",
       "             they default to `backend=\"cuda\"`, rather than `backend=\"cpu\"`.\n",
       "           - If a pyarrow object, calls #ak.from_arrow, preserving as much\n",
       "             metadata as possible, usually zero-copy.\n",
       "           - If a dict of str → columns, combines the columns into an\n",
       "             array of records (like Pandas's DataFrame constructor).\n",
       "           - If a string, the data are assumed to be JSON.\n",
       "           - If an iterable, calls #ak.from_iter, which assumes all dimensions\n",
       "             have irregular lengths.\n",
       "    behavior (None or dict): Custom #ak.behavior for this Array only.\n",
       "    with_name (None or str): Gives tuples and records a name that can be\n",
       "        used to override their behavior (see below).\n",
       "    check_valid (bool): If True, verify that the #layout is valid.\n",
       "    backend (None, `\"cpu\"`, `\"jax\"`, `\"cuda\"`): If `\"cpu\"`, the Array will be placed in\n",
       "        main memory for use with other `\"cpu\"` Arrays and Records; if `\"cuda\"`,\n",
       "        the Array will be placed in GPU global memory using CUDA; if `\"jax\"`, the structure\n",
       "        is copied to the CPU for use with JAX. if None, the `data` are left untouched.\n",
       "\n",
       "High-level array that can contain data of any type.\n",
       "\n",
       "For most users, this is the only class in Awkward Array that matters: it\n",
       "is the entry point for data analysis with an emphasis on usability. It\n",
       "intentionally has a minimum of methods, preferring standalone functions\n",
       "like\n",
       "\n",
       "    ak.num(array1)\n",
       "    ak.combinations(array1)\n",
       "    ak.cartesian([array1, array2])\n",
       "    ak.zip({\"x\": array1, \"y\": array2, \"z\": array3})\n",
       "\n",
       "instead of bound methods like\n",
       "\n",
       "    array1.num()\n",
       "    array1.combinations()\n",
       "    array1.cartesian([array2, array3])\n",
       "    array1.zip(...)   # ?\n",
       "\n",
       "because its namespace is valuable for domain-specific parameters and\n",
       "functionality. For example, if records contain a field named `\"num\"`,\n",
       "they can be accessed as\n",
       "\n",
       "    array1.num\n",
       "\n",
       "instead of\n",
       "\n",
       "    array1[\"num\"]\n",
       "\n",
       "without any confusion or interference from #ak.num. The same is true\n",
       "for domain-specific methods that have been attached to the data. For\n",
       "instance, an analysis of mailing addresses might have a function that\n",
       "computes zip codes, which can be attached to the data with a method\n",
       "like\n",
       "\n",
       "    latlon.zip()\n",
       "\n",
       "without any confusion or interference from #ak.zip. Custom methods like\n",
       "this can be added with #ak.behavior, and so the namespace of Array\n",
       "attributes must be kept clear for such applications.\n",
       "\n",
       "See also #ak.Record.\n",
       "\n",
       "Interfaces to other libraries\n",
       "=============================\n",
       "\n",
       "NumPy\n",
       "*****\n",
       "\n",
       "When NumPy\n",
       "[universal functions](https://docs.scipy.org/doc/numpy/reference/ufuncs.html)\n",
       "(ufuncs) are applied to an ak.Array, they are passed through the Awkward\n",
       "data structure, applied to the numerical data at its leaves, and the output\n",
       "maintains the original structure.\n",
       "\n",
       "For example,\n",
       "\n",
       "    >>> array = ak.Array([[1, 4, 9], [], [16, 25]])\n",
       "    >>> np.sqrt(array)\n",
       "    <Array [[1, 2, 3], [], [4, 5]] type='3 * var * float64'>\n",
       "\n",
       "See also #ak.Array.__array_ufunc__.\n",
       "\n",
       "Some NumPy functions other than ufuncs are also handled properly in\n",
       "NumPy >= 1.17 (see\n",
       "[NEP 18](https://numpy.org/neps/nep-0018-array-function-protocol.html))\n",
       "and if an Awkward override exists. That is,\n",
       "\n",
       "    np.concatenate\n",
       "\n",
       "can be used on an Awkward Array because\n",
       "\n",
       "    ak.concatenate\n",
       "\n",
       "exists.\n",
       "\n",
       "Pandas\n",
       "******\n",
       "\n",
       "Ragged arrays (list type) can be converted into Pandas\n",
       "[MultiIndex](https://pandas.pydata.org/pandas-docs/stable/user_guide/advanced.html)\n",
       "rows and nested records can be converted into MultiIndex columns. If the\n",
       "Awkward Array has only one \"branch\" of nested lists (i.e. different record\n",
       "fields do not have different-length lists, but a single chain of lists-of-lists\n",
       "is okay), then it can be losslessly converted into a single DataFrame.\n",
       "Otherwise, multiple DataFrames are needed, though they can be merged (with a\n",
       "loss of information).\n",
       "\n",
       "The #ak.to_dataframe function performs this conversion; if `how=None`, it\n",
       "returns a list of DataFrames; otherwise, `how` is passed to `pd.merge` when\n",
       "merging the resultant DataFrames.\n",
       "\n",
       "Numba\n",
       "*****\n",
       "\n",
       "Arrays can be used in [Numba](http://numba.pydata.org/): they can be\n",
       "passed as arguments to a Numba-compiled function or returned as return\n",
       "values. The only limitation is that Awkward Arrays cannot be *created*\n",
       "inside the Numba-compiled function; to make outputs, consider\n",
       "#ak.ArrayBuilder.\n",
       "\n",
       "Arrow\n",
       "*****\n",
       "\n",
       "Arrays are convertible to and from [Apache Arrow](https://arrow.apache.org/),\n",
       "a standard for representing nested data structures in columnar arrays.\n",
       "See #ak.to_arrow and #ak.from_arrow.\n",
       "\n",
       "JAX\n",
       "********\n",
       "\n",
       "Derivatives of a calculation on an #ak.Array (s) can be calculated with\n",
       "[JAX](https://github.com/google/jax#readme), but only if the array\n",
       "functions in `ak` / `numpy` are used, not the functions in the `jax`\n",
       "library directly (apart from e.g. `jax.grad`).\n",
       "\n",
       "Like NumPy ufuncs, the function and its derivatives are evaluated on the\n",
       "numeric leaves of the data structure, maintaining structure in the output."
      ]
     },
     "metadata": {},
     "output_type": "display_data"
    }
   ],
   "source": [
    "var?"
   ]
  },
  {
   "cell_type": "code",
   "execution_count": 1,
   "id": "5c56fcba-a0e8-4c92-856e-8412a8a7f274",
   "metadata": {},
   "outputs": [],
   "source": [
    "import numba"
   ]
  },
  {
   "cell_type": "code",
   "execution_count": 2,
   "id": "5d37a7a8-f12d-475b-b867-525e001fef65",
   "metadata": {},
   "outputs": [],
   "source": [
    "import timeit"
   ]
  },
  {
   "cell_type": "code",
   "execution_count": 4,
   "id": "1a0f4fa2-eacf-4ab9-83fa-b28481343d65",
   "metadata": {},
   "outputs": [
    {
     "name": "stdout",
     "output_type": "stream",
     "text": [
      "7.561286199954338\n"
     ]
    }
   ],
   "source": [
    "start = timeit.default_timer()\n",
    "for i in range(int(1e8)):\n",
    "    i / 2\n",
    "    \n",
    "end = timeit.default_timer()\n",
    "print(end - start)"
   ]
  },
  {
   "cell_type": "code",
   "execution_count": 5,
   "id": "05fec668-ef4e-44da-9400-f43feca28497",
   "metadata": {},
   "outputs": [
    {
     "name": "stdout",
     "output_type": "stream",
     "text": [
      "8.54809870000463\n"
     ]
    }
   ],
   "source": [
    "start = timeit.default_timer()\n",
    "for i in range(int(1e8)):\n",
    "    i * 0.5\n",
    "    \n",
    "end = timeit.default_timer()\n",
    "print(end - start)"
   ]
  },
  {
   "cell_type": "code",
   "execution_count": 7,
   "id": "32115ed4-ba73-4065-a46f-2047d28f2c8b",
   "metadata": {},
   "outputs": [],
   "source": [
    "@numba.jit('f8(f8)', nopython = True)\n",
    "def div_by_2(max_i):\n",
    "    for i in range(int(max_i)):\n",
    "        i / 2\n",
    "    return i / 2"
   ]
  },
  {
   "cell_type": "code",
   "execution_count": 8,
   "id": "83b7a0dd-b7f5-496a-a923-dd95cf992e04",
   "metadata": {},
   "outputs": [
    {
     "name": "stdout",
     "output_type": "stream",
     "text": [
      "6.620003841817379e-05\n"
     ]
    }
   ],
   "source": [
    "start = timeit.default_timer()\n",
    "div_by_2(1e8)\n",
    "end = timeit.default_timer()\n",
    "print(end - start)"
   ]
  },
  {
   "cell_type": "code",
   "execution_count": null,
   "id": "535a81e2-a85e-4e8d-b00b-939f502e9d2e",
   "metadata": {},
   "outputs": [],
   "source": []
  }
 ],
 "metadata": {
  "kernelspec": {
   "display_name": "Python 3 (ipykernel)",
   "language": "python",
   "name": "python3"
  },
  "language_info": {
   "codemirror_mode": {
    "name": "ipython",
    "version": 3
   },
   "file_extension": ".py",
   "mimetype": "text/x-python",
   "name": "python",
   "nbconvert_exporter": "python",
   "pygments_lexer": "ipython3",
   "version": "3.11.3"
  }
 },
 "nbformat": 4,
 "nbformat_minor": 5
}

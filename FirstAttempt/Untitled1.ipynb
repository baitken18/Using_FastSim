{
 "cells": [
  {
   "cell_type": "code",
   "execution_count": 1,
   "id": "9e500c53-1768-4b48-9194-6a1a0d9229dc",
   "metadata": {},
   "outputs": [],
   "source": [
    "import sys\n",
    "import os\n",
    "import re\n",
    "import copy\n",
    "import numpy as np\n",
    "import random\n",
    "import itertools\n",
    "from typing import List, Optional \n",
    "from os import listdir\n",
    "from os.path import isfile, join\n",
    "import matplotlib.pyplot as plt\n",
    "from tqdm.notebook import tqdm\n",
    "\n",
    "# load the various FastSim libraries\n",
    "sys.path.insert(0, '../MATHUSLA_FastSim/')\n",
    "import DetectorSimulation.Detector as Detector\n",
    "import DetectorSimulation.Particle as Particle\n",
    "import DetectorSimulation.Vertex as Vertex\n",
    "import DetectorSimulation.lorentz_transformation as lt\n",
    "import DetectorSimulation.llp_gun as llp_gun\n",
    "## depending on which fvs are used load a different specialized llp gun (llp_gun_new) (built on top of llp_gun)\n",
    "import DetectorSimulation.llp_gun_new as lg\n",
    "## NOTE: the various hadronic functions in llp_gun_new must be updated with the correct path of the LLP hadronic decay \n",
    "## 4-vector files depending on the type of analysis \n",
    "\n",
    "## These hadronic functions are almost the same but were separated into different functions for ease of use with the \n",
    "## different LLP analyses - but should be very easy to update them for any new analysis that need be done\n",
    "\n",
    "# load helper function library for later\n",
    "from Helpers.functions import *"
   ]
  },
  {
   "cell_type": "code",
   "execution_count": 2,
   "id": "c1b92c51-72b3-4281-887a-90d9638f3db2",
   "metadata": {},
   "outputs": [],
   "source": [
    "sys.path.insert(0,'../FastSim_Additions/')\n",
    "from Additions import initiate_detector"
   ]
  },
  {
   "cell_type": "code",
   "execution_count": 3,
   "id": "0da3659d-f9cc-4910-a520-9d1ff7e40a46",
   "metadata": {},
   "outputs": [],
   "source": [
    "from scipy.interpolate import interp1d"
   ]
  },
  {
   "cell_type": "code",
   "execution_count": 4,
   "id": "1c19fde6-0faf-4131-b6a7-1b7c2f84be23",
   "metadata": {},
   "outputs": [],
   "source": [
    "file = '../SimulationData/RHN_Ue_LLPweight4vectorBmesonlist_mN_0.316228.csv'\n",
    "mass = float(file.split('_')[-1][:-4])"
   ]
  },
  {
   "cell_type": "code",
   "execution_count": 5,
   "id": "d5e19f40-bfbc-43a4-832b-afdcfbfa0fed",
   "metadata": {},
   "outputs": [],
   "source": [
    "length_file = '../SimulationData/RHNctauUe.dat'\n",
    "mass_to_length = np.loadtxt(length_file, skiprows = 1)\n",
    "interp_mass = interp1d(mass_to_length.T[0], mass_to_length.T[1])\n",
    "length_U1 = float(interp_mass(mass))"
   ]
  },
  {
   "cell_type": "code",
   "execution_count": 24,
   "id": "b628d551-edba-4172-9aae-5415537e0d1a",
   "metadata": {},
   "outputs": [],
   "source": [
    "mixing = np.logspace(-4,-5, 100) "
   ]
  },
  {
   "cell_type": "code",
   "execution_count": 30,
   "id": "fe02be56-1dfe-4bf1-971c-f40f3630f7ee",
   "metadata": {},
   "outputs": [],
   "source": [
    "lengths = length_U1 / mixing"
   ]
  },
  {
   "cell_type": "code",
   "execution_count": 31,
   "id": "9fdc483b-08fd-4b98-8f91-647ebd31c670",
   "metadata": {},
   "outputs": [
    {
     "data": {
      "text/plain": [
       "array([  648.04081911,   678.89777056,   711.22399897,   745.08946508,\n",
       "         780.56746086,   817.73476811,   856.67182467,   897.4628985 ,\n",
       "         940.19627001,   984.96442318,  1031.86424566,  1080.99723849,\n",
       "        1132.46973577,  1186.39313475,  1242.88413696,  1302.06500077,\n",
       "        1364.06380597,  1429.01473094,  1497.0583431 ,  1568.34190308,\n",
       "        1643.01968343,  1721.2533025 ,  1803.21207424,  1889.0733746 ,\n",
       "        1979.0230254 ,  2073.25569654,  2171.97532726,  2275.39556751,\n",
       "        2383.74024035,  2497.24382635,  2616.15197104,  2740.72201655,\n",
       "        2871.22355856,  3007.93902973,  3151.16431097,  3301.2093718 ,\n",
       "        3458.39894116,  3623.07321019,  3795.5885685 ,  3976.31837547,\n",
       "        4165.65376825,  4364.00450829,  4571.79986813,  4789.48956045,\n",
       "        5017.54471135,  5256.45887994,  5506.74912652,  5768.9571316 ,\n",
       "        6043.65036823,  6331.42333011,  6632.8988182 ,  6948.72928861,\n",
       "        7279.59826462,  7626.221816  ,  7989.35010871,  8369.76902843,\n",
       "        8768.3018814 ,  9185.81117617,  9623.2004903 , 10081.4164259 ,\n",
       "       10561.4506582 , 11064.34208184, 11591.17905919, 12143.10177581,\n",
       "       12721.30470807, 13327.03920821, 13961.61621257, 14626.40907869,\n",
       "       15322.85655758, 16052.46590746, 16816.81615577, 17617.56151656,\n",
       "       18456.43497048, 19335.25201542, 20255.91459551, 21220.41521742,\n",
       "       22230.8412625 , 23289.37950437, 24398.32084147, 25560.06525514,\n",
       "       26777.12700362, 28052.14006344, 29387.86382992, 30787.18908906,\n",
       "       32253.14427382, 33788.90201825, 35397.78602378, 37083.27825239,\n",
       "       38849.02646229, 40698.85210244, 42636.75858297, 44666.93993941,\n",
       "       46793.78990944, 49021.91144185, 51356.12665835, 53801.48728955,\n",
       "       56363.28560804, 59047.06588197, 61858.63637396, 64804.08191144])"
      ]
     },
     "execution_count": 31,
     "metadata": {},
     "output_type": "execute_result"
    }
   ],
   "source": [
    "lengths"
   ]
  },
  {
   "cell_type": "code",
   "execution_count": 21,
   "id": "bbb68ecc-1800-42bd-9b58-87646ba69f09",
   "metadata": {},
   "outputs": [],
   "source": [
    "detector_benchmark = initiate_detector()\n",
    "phi_min, phi_max, theta_min, theta_max = get_detector_angles(detector_benchmark)"
   ]
  },
  {
   "cell_type": "code",
   "execution_count": 22,
   "id": "d1531e49-7566-43c8-9526-4a133f944350",
   "metadata": {},
   "outputs": [],
   "source": []
  },
  {
   "cell_type": "code",
   "execution_count": 32,
   "id": "ee7a7e2b-1d92-4863-abaf-8496cb3fe717",
   "metadata": {},
   "outputs": [],
   "source": [
    "fv_path = join(os.getcwd(), file)\n",
    "\n",
    "in_detector = np.zeros(len(lengths))\n",
    "decay_in_detector = np.zeros(len(lengths))\n",
    "\n",
    "for i,ctau in enumerate(lengths):\n",
    "    vectors = read_vectors(fv_path, 100)\n",
    "    for vec in vectors:\n",
    "        four_p = vec[1:]\n",
    "        llp_theta = get_theta(four_p)\n",
    "        \n",
    "        if (llp_theta < theta_max) and (llp_theta > theta_min):\n",
    "            #print('Particle in MATHUSLA')\n",
    "            in_detector[i] += 1\n",
    "            detector_benchmark.clear_detector()\n",
    "            \n",
    "            rot_four_p = deal_with_phi(four_p, phi_min, phi_max)\n",
    "            \n",
    "            pack = get_weight(rot_four_p, mass, ctau, detector_benchmark)\n",
    "            if pack is not None:\n",
    "                print('Particle Decayed in MATHUSLA')\n",
    "                decay_in_detector[i] += 1"
   ]
  },
  {
   "cell_type": "code",
   "execution_count": 11,
   "id": "37761d03-7c8c-4ff9-9e7c-bba63314a97d",
   "metadata": {},
   "outputs": [
    {
     "data": {
      "text/plain": [
       "array([0., 5., 1., 2., 4., 0., 0., 1., 4., 3., 1., 2., 0., 3., 1., 2., 2.,\n",
       "       3., 3., 2., 2., 2., 3., 0., 1., 5., 2., 3., 1., 1., 2., 3., 2., 1.,\n",
       "       1., 2., 5., 0., 5., 3., 2., 2., 0., 2., 1., 1., 2., 2., 3., 3., 4.,\n",
       "       3., 3., 3., 2., 2., 1., 2., 1., 1., 2., 2., 1., 2., 2., 4., 2., 2.,\n",
       "       5., 1., 1., 2., 0., 2., 1., 2., 2., 1., 4., 0., 4., 3., 0., 3., 1.,\n",
       "       2., 1., 0., 5., 4., 2., 2., 0., 1., 1., 1., 1., 3., 5., 3.])"
      ]
     },
     "execution_count": 11,
     "metadata": {},
     "output_type": "execute_result"
    }
   ],
   "source": [
    "in_detector"
   ]
  },
  {
   "cell_type": "code",
   "execution_count": 12,
   "id": "0e5faf5d-2ac4-4d5e-a0e6-6fb9b7c9085b",
   "metadata": {},
   "outputs": [
    {
     "data": {
      "text/plain": [
       "array([0., 0., 0., 0., 0., 0., 0., 0., 0., 0., 0., 0., 0., 0., 0., 0., 0.,\n",
       "       0., 0., 0., 0., 0., 0., 0., 0., 0., 0., 0., 0., 0., 0., 0., 0., 0.,\n",
       "       0., 0., 0., 0., 0., 0., 0., 0., 0., 0., 0., 0., 0., 0., 0., 0., 0.,\n",
       "       0., 0., 0., 0., 0., 0., 0., 0., 0., 0., 0., 0., 0., 0., 0., 0., 0.,\n",
       "       0., 0., 0., 0., 0., 0., 0., 0., 0., 0., 0., 0., 0., 0., 0., 0., 0.,\n",
       "       0., 0., 0., 0., 0., 0., 0., 0., 0., 0., 0., 0., 0., 0., 0.])"
      ]
     },
     "execution_count": 12,
     "metadata": {},
     "output_type": "execute_result"
    }
   ],
   "source": [
    "decay_in_detector"
   ]
  },
  {
   "cell_type": "code",
   "execution_count": null,
   "id": "c3c99dff-5b6f-4c68-97da-912360c362c7",
   "metadata": {},
   "outputs": [],
   "source": []
  }
 ],
 "metadata": {
  "kernelspec": {
   "display_name": "Python 3 (ipykernel)",
   "language": "python",
   "name": "python3"
  },
  "language_info": {
   "codemirror_mode": {
    "name": "ipython",
    "version": 3
   },
   "file_extension": ".py",
   "mimetype": "text/x-python",
   "name": "python",
   "nbconvert_exporter": "python",
   "pygments_lexer": "ipython3",
   "version": "3.11.3"
  }
 },
 "nbformat": 4,
 "nbformat_minor": 5
}

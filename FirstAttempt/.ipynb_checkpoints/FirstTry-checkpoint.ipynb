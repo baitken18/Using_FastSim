{
 "cells": [
  {
   "cell_type": "code",
   "execution_count": 1,
   "id": "ba2e01cd-aaf9-46cc-b3fa-5fffe6a31df0",
   "metadata": {},
   "outputs": [
    {
     "ename": "ModuleNotFoundError",
     "evalue": "No module named 'DetectorSimulation'",
     "output_type": "error",
     "traceback": [
      "\u001b[1;31m---------------------------------------------------------------------------\u001b[0m",
      "\u001b[1;31mModuleNotFoundError\u001b[0m                       Traceback (most recent call last)",
      "Cell \u001b[1;32mIn[1], line 15\u001b[0m\n\u001b[0;32m     12\u001b[0m \u001b[38;5;28;01mfrom\u001b[39;00m \u001b[38;5;21;01mtqdm\u001b[39;00m\u001b[38;5;21;01m.\u001b[39;00m\u001b[38;5;21;01mnotebook\u001b[39;00m \u001b[38;5;28;01mimport\u001b[39;00m tqdm\n\u001b[0;32m     14\u001b[0m \u001b[38;5;66;03m# load the various FastSim libraries\u001b[39;00m\n\u001b[1;32m---> 15\u001b[0m \u001b[38;5;28;01mimport\u001b[39;00m \u001b[38;5;21;01mDetectorSimulation\u001b[39;00m\u001b[38;5;21;01m.\u001b[39;00m\u001b[38;5;21;01mDetector\u001b[39;00m \u001b[38;5;28;01mas\u001b[39;00m \u001b[38;5;21;01mDetector\u001b[39;00m\n\u001b[0;32m     16\u001b[0m \u001b[38;5;28;01mimport\u001b[39;00m \u001b[38;5;21;01mDetectorSimulation\u001b[39;00m\u001b[38;5;21;01m.\u001b[39;00m\u001b[38;5;21;01mParticle\u001b[39;00m \u001b[38;5;28;01mas\u001b[39;00m \u001b[38;5;21;01mParticle\u001b[39;00m\n\u001b[0;32m     17\u001b[0m \u001b[38;5;28;01mimport\u001b[39;00m \u001b[38;5;21;01mDetectorSimulation\u001b[39;00m\u001b[38;5;21;01m.\u001b[39;00m\u001b[38;5;21;01mVertex\u001b[39;00m \u001b[38;5;28;01mas\u001b[39;00m \u001b[38;5;21;01mVertex\u001b[39;00m\n",
      "\u001b[1;31mModuleNotFoundError\u001b[0m: No module named 'DetectorSimulation'"
     ]
    }
   ],
   "source": [
    "import sys\n",
    "import os\n",
    "import re\n",
    "import copy\n",
    "import numpy as np\n",
    "import random\n",
    "import itertools\n",
    "from typing import List, Optional \n",
    "from os import listdir\n",
    "from os.path import isfile, join\n",
    "import matplotlib.pyplot as plt\n",
    "from tqdm.notebook import tqdm\n",
    "\n",
    "# load the various FastSim libraries\n",
    "import ../MATHUSLA_FastSim/DetectorSimulation.Detector as Detector\n",
    "import ../MATHUSLA_FastSim/DetectorSimulation.Particle as Particle\n",
    "import ../MATHUSLA_FastSim/DetectorSimulation.Vertex as Vertex\n",
    "import ../MATHUSLA_FastSim/DetectorSimulation.lorentz_transformation as lt\n",
    "import ../MATHUSLA_FastSim/DetectorSimulation.llp_gun as llp_gun\n",
    "## depending on which fvs are used load a different specialized llp gun (llp_gun_new) (built on top of llp_gun)\n",
    "import ../MATHUSLA_FastSim/DetectorSimulation.llp_gun_new as lg\n",
    "## NOTE: the various hadronic functions in llp_gun_new must be updated with the correct path of the LLP hadronic decay \n",
    "## 4-vector files depending on the type of analysis \n",
    "\n",
    "## These hadronic functions are almost the same but were separated into different functions for ease of use with the \n",
    "## different LLP analyses - but should be very easy to update them for any new analysis that need be done\n",
    "\n",
    "# load helper function library for later\n",
    "from ../MATHUSLA_FastSim/Helpers.functions import *"
   ]
  },
  {
   "cell_type": "code",
   "execution_count": null,
   "id": "e9cdfcb8-ccf0-44b9-8fbd-cd757f149687",
   "metadata": {},
   "outputs": [],
   "source": []
  }
 ],
 "metadata": {
  "kernelspec": {
   "display_name": "Python 3 (ipykernel)",
   "language": "python",
   "name": "python3"
  },
  "language_info": {
   "codemirror_mode": {
    "name": "ipython",
    "version": 3
   },
   "file_extension": ".py",
   "mimetype": "text/x-python",
   "name": "python",
   "nbconvert_exporter": "python",
   "pygments_lexer": "ipython3",
   "version": "3.11.3"
  }
 },
 "nbformat": 4,
 "nbformat_minor": 5
}

{
 "cells": [
  {
   "cell_type": "code",
   "execution_count": 1,
   "id": "f12d6d0e-d34a-4c74-b3f4-e67c1560192b",
   "metadata": {},
   "outputs": [],
   "source": [
    "import numpy as np"
   ]
  },
  {
   "cell_type": "code",
   "execution_count": 6,
   "id": "a1784793-84d0-470c-92a0-7086475ab93b",
   "metadata": {},
   "outputs": [],
   "source": [
    "datafile = '../SimulationData/vN_Ntoall_analytical2and3bodydecays_0.316228.txt'"
   ]
  },
  {
   "cell_type": "code",
   "execution_count": 48,
   "id": "c97c999f-7a6a-4825-869c-cc15f38b9543",
   "metadata": {},
   "outputs": [
    {
     "data": {
      "text/plain": [
       "False"
      ]
     },
     "execution_count": 48,
     "metadata": {},
     "output_type": "execute_result"
    }
   ],
   "source": [
    "'0.135'.isnumeric()"
   ]
  },
  {
   "cell_type": "code",
   "execution_count": 51,
   "id": "bdf5ccca-c605-4364-b40b-de5e74bc9364",
   "metadata": {},
   "outputs": [],
   "source": [
    "def check_data(data):\n",
    "    if len(data) != 6:\n",
    "        return False\n",
    "    for entry in data:\n",
    "        try:\n",
    "            float(entry)\n",
    "        except ValueError:\n",
    "            return False\n",
    "    return True"
   ]
  },
  {
   "cell_type": "code",
   "execution_count": 52,
   "id": "2b83a9b1-93c5-4bc4-b042-94daf08c1ac1",
   "metadata": {},
   "outputs": [],
   "source": [
    "structure = []\n",
    "temp = []\n",
    "\n",
    "with open(datafile) as f:\n",
    "    f.readline()\n",
    "    for line in f.readlines():\n",
    "        if line.strip() != '':\n",
    "            data = line.strip().split(',')\n",
    "            if check_data(data):\n",
    "                temp.append(line.strip().split(','))\n",
    "        elif len(temp) > 0:\n",
    "            structure.append(temp)\n",
    "            temp = []"
   ]
  },
  {
   "cell_type": "code",
   "execution_count": 93,
   "id": "2ef65e61-61cf-426e-9ed1-cb6208b4d070",
   "metadata": {},
   "outputs": [],
   "source": [
    "def surround(entry):\n",
    "    result = '{'\n",
    "    for value in entry:\n",
    "        result += value + ','\n",
    "    result = result[:-1] + '}'\n",
    "    return result \n",
    "\n",
    "def event_string(data):\n",
    "\n",
    "    llp = surround(data[0])\n",
    "    daughters = []\n",
    "    for entry in data[1:]:\n",
    "        daughters.append(surround(entry))\n",
    "    daughters = surround(daughters)\n",
    "        \n",
    "    return surround([llp, '\\n' + daughters])"
   ]
  },
  {
   "cell_type": "code",
   "execution_count": 83,
   "id": "a7f1f73e-0d52-49dc-9085-8a23a377249f",
   "metadata": {},
   "outputs": [],
   "source": [
    "one_line_file = surround([event_string(data) for data in structure])"
   ]
  },
  {
   "cell_type": "code",
   "execution_count": 98,
   "id": "5dda1d4a-4df1-4253-a9bd-b608faaffc60",
   "metadata": {},
   "outputs": [],
   "source": [
    "file_lines = '{\\n'\n",
    "\n",
    "for data in structure:\n",
    "    file_lines += '{\\n'\n",
    "    file_lines += event_string(data)[1:] + '\\n,\\n'\n",
    "    \n",
    "file_lines += '}'\n",
    "\n",
    "with open('formatted.txt', 'w') as f:\n",
    "    f.write(file_lines)"
   ]
  },
  {
   "cell_type": "code",
   "execution_count": 87,
   "id": "f53d903c-9b64-45f8-9b79-4459d37f56fb",
   "metadata": {},
   "outputs": [
    {
     "data": {
      "text/plain": [
       "'{{0.316228, 0, 0, 0, 0.316228, 990012},{{0.102774100000000, 0.0631749267024555, -0.0310796140347465, 0.0748698995484872, 0, 12},{0.157779516124935, -0.0920482366198614, 0.0408688710302031, -0.121454655013751, 0, 12},{0.0556743838750650, 0.0288733099174059, -0.00978925699545658, 0.0465847554652639, 0, -12}}}'"
      ]
     },
     "execution_count": 87,
     "metadata": {},
     "output_type": "execute_result"
    }
   ],
   "source": [
    "event_string(structure[0])"
   ]
  },
  {
   "cell_type": "code",
   "execution_count": 67,
   "id": "13df9930-b86c-401f-b9ba-f1c789d11325",
   "metadata": {},
   "outputs": [
    {
     "data": {
      "text/plain": [
       "[['0.316228', ' 0', ' 0', ' 0', ' 0.316228', ' 990012'],\n",
       " ['0.102774100000000',\n",
       "  ' 0.0631749267024555',\n",
       "  ' -0.0310796140347465',\n",
       "  ' 0.0748698995484872',\n",
       "  ' 0',\n",
       "  ' 12'],\n",
       " ['0.157779516124935',\n",
       "  ' -0.0920482366198614',\n",
       "  ' 0.0408688710302031',\n",
       "  ' -0.121454655013751',\n",
       "  ' 0',\n",
       "  ' 12'],\n",
       " ['0.0556743838750650',\n",
       "  ' 0.0288733099174059',\n",
       "  ' -0.00978925699545658',\n",
       "  ' 0.0465847554652639',\n",
       "  ' 0',\n",
       "  ' -12']]"
      ]
     },
     "execution_count": 67,
     "metadata": {},
     "output_type": "execute_result"
    }
   ],
   "source": [
    "structure[0]"
   ]
  },
  {
   "cell_type": "code",
   "execution_count": 21,
   "id": "fd1e442f-fc7d-4d62-bb49-fd878f4afe12",
   "metadata": {},
   "outputs": [
    {
     "data": {
      "text/plain": [
       "['']"
      ]
     },
     "execution_count": 21,
     "metadata": {},
     "output_type": "execute_result"
    }
   ],
   "source": [
    "temp[5] "
   ]
  },
  {
   "cell_type": "code",
   "execution_count": null,
   "id": "1cc2760e-9e7d-4963-b52f-8e7bc83c3e43",
   "metadata": {},
   "outputs": [],
   "source": []
  }
 ],
 "metadata": {
  "kernelspec": {
   "display_name": "Python 3 (ipykernel)",
   "language": "python",
   "name": "python3"
  },
  "language_info": {
   "codemirror_mode": {
    "name": "ipython",
    "version": 3
   },
   "file_extension": ".py",
   "mimetype": "text/x-python",
   "name": "python",
   "nbconvert_exporter": "python",
   "pygments_lexer": "ipython3",
   "version": "3.11.3"
  }
 },
 "nbformat": 4,
 "nbformat_minor": 5
}

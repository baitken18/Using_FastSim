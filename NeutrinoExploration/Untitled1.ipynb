{
 "cells": [
  {
   "cell_type": "code",
   "execution_count": null,
   "id": "97c00180-fea6-4d46-bb91-c66e3bfb81b7",
   "metadata": {},
   "outputs": [],
   "source": [
    "import sys\n",
    "import numpy as np\n",
    "import awkward as ak\n",
    "import uproot \n",
    "import matplotlib.pyplot as plt"
   ]
  },
  {
   "cell_type": "code",
   "execution_count": 3,
   "id": "d3d901ae-fe52-4eeb-a9ba-d12caa2138ad",
   "metadata": {},
   "outputs": [],
   "source": [
    "sys.path.insert(0, '../../MATHUSLA_FastSim/')\n",
    "import DetectorSimulation.Detector as Detector\n",
    "import DetectorSimulation.Particle as Particle\n",
    "import Helpers.functions as hp\n",
    "\n",
    "sys.path.insert(0,'../../FastSim_Additions')\n",
    "from Additions import initiate_detector"
   ]
  },
  {
   "cell_type": "code",
   "execution_count": 6,
   "id": "c10e176b-96a9-4d39-9f6d-6c5a3d667b8b",
   "metadata": {},
   "outputs": [],
   "source": [
    "file = uproot.open('../../AllSimData/nue_0-1Gev_100kev_gntp.0.gst.root:gst;2')\n",
    "data = file.arrays(library = 'ak')"
   ]
  },
  {
   "cell_type": "code",
   "execution_count": 9,
   "id": "c3d38575-97da-48e1-93f9-a71fa2fad9b7",
   "metadata": {},
   "outputs": [],
   "source": [
    "event_layout = transpose_daughters(data['Ef'], data['pxf'], data['pyf'], data['pzf'], data['pdgf'])"
   ]
  },
  {
   "cell_type": "code",
   "execution_count": 4,
   "id": "29cb14e9-614d-4b9d-9dce-9319e61bbdb1",
   "metadata": {},
   "outputs": [],
   "source": [
    "detector_benchmark = initiate_detector()"
   ]
  },
  {
   "cell_type": "code",
   "execution_count": 10,
   "id": "6e9f8df1-6c2f-4188-951a-70ee53393404",
   "metadata": {},
   "outputs": [
    {
     "data": {
      "text/plain": [
       "100.0"
      ]
     },
     "execution_count": 10,
     "metadata": {},
     "output_type": "execute_result"
    }
   ],
   "source": [
    "detector_benchmark.config.decay_x_dim"
   ]
  },
  {
   "cell_type": "code",
   "execution_count": 12,
   "id": "b1afe1bd-41d4-4c4b-a918-d34e4e76947a",
   "metadata": {},
   "outputs": [
    {
     "data": {
      "text/plain": [
       "50.0"
      ]
     },
     "execution_count": 12,
     "metadata": {},
     "output_type": "execute_result"
    }
   ],
   "source": [
    "detector_benchmark.config.decay_x_max"
   ]
  },
  {
   "cell_type": "code",
   "execution_count": 15,
   "id": "2012f088-ee19-434b-a082-78497713563c",
   "metadata": {},
   "outputs": [
    {
     "ename": "AttributeError",
     "evalue": "'ParamCard' object has no attribute 'decay_z_dim'",
     "output_type": "error",
     "traceback": [
      "\u001b[1;31m---------------------------------------------------------------------------\u001b[0m",
      "\u001b[1;31mAttributeError\u001b[0m                            Traceback (most recent call last)",
      "Cell \u001b[1;32mIn[15], line 1\u001b[0m\n\u001b[1;32m----> 1\u001b[0m detector_benchmark\u001b[38;5;241m.\u001b[39mconfig\u001b[38;5;241m.\u001b[39mdecay_z_dim\n",
      "\u001b[1;31mAttributeError\u001b[0m: 'ParamCard' object has no attribute 'decay_z_dim'"
     ]
    }
   ],
   "source": [
    "detector_benchmark.config.decay_z_dim"
   ]
  },
  {
   "cell_type": "code",
   "execution_count": 18,
   "id": "cc441e7e-e128-429e-967c-2f91e752f1c7",
   "metadata": {},
   "outputs": [
    {
     "ename": "NameError",
     "evalue": "name 'sort' is not defined",
     "output_type": "error",
     "traceback": [
      "\u001b[1;31m---------------------------------------------------------------------------\u001b[0m",
      "\u001b[1;31mNameError\u001b[0m                                 Traceback (most recent call last)",
      "Cell \u001b[1;32mIn[18], line 8\u001b[0m\n\u001b[0;32m      5\u001b[0m         \u001b[38;5;28;01mif\u001b[39;00m pid \u001b[38;5;129;01mnot\u001b[39;00m \u001b[38;5;129;01min\u001b[39;00m occurred:\n\u001b[0;32m      6\u001b[0m             occurred\u001b[38;5;241m.\u001b[39mappend(pid)\n\u001b[1;32m----> 8\u001b[0m sort(occurred)\n",
      "\u001b[1;31mNameError\u001b[0m: name 'sort' is not defined"
     ]
    }
   ],
   "source": [
    "occurred = []\n",
    "\n",
    "for entry in data['pdgf']:\n",
    "    for pid in entry:\n",
    "        if pid not in occurred:\n",
    "            occurred.append(pid)"
   ]
  },
  {
   "cell_type": "code",
   "execution_count": 21,
   "id": "4e17c21f-85ec-4b02-b2af-2838390374ea",
   "metadata": {},
   "outputs": [
    {
     "data": {
      "text/plain": [
       "[-14, -13, -11, 11, 12, 13, 14, 22, 2112, 2212, 1000070140, 1000080160]"
      ]
     },
     "execution_count": 21,
     "metadata": {},
     "output_type": "execute_result"
    }
   ],
   "source": [
    "occurred"
   ]
  },
  {
   "cell_type": "code",
   "execution_count": 22,
   "id": "61d48e3f-bf61-4721-bf09-2c70e5173895",
   "metadata": {},
   "outputs": [],
   "source": [
    "pid_mass = {11:5.11e-4, 12:0, 13: 0.1057, 22:0, 2212:0.938, 2112: 0.939, 14:0}"
   ]
  },
  {
   "cell_type": "code",
   "execution_count": 23,
   "id": "271c32f1-6052-4fae-9fa1-c4005f0834af",
   "metadata": {},
   "outputs": [
    {
     "data": {
      "text/html": [
       "<pre>[0.438,\n",
       " -0.00271,\n",
       " -0.382,\n",
       " 0.214,\n",
       " 11]\n",
       "-----------------\n",
       "type: 5 * float64</pre>"
      ],
      "text/plain": [
       "<Array [0.438, -0.00271, -0.382, 0.214, 11] type='5 * float64'>"
      ]
     },
     "execution_count": 23,
     "metadata": {},
     "output_type": "execute_result"
    }
   ],
   "source": [
    "event_layout[0,0]"
   ]
  },
  {
   "cell_type": "code",
   "execution_count": 24,
   "id": "f46a1b4f-5209-4617-a8e6-cb0aaa04eb8f",
   "metadata": {},
   "outputs": [],
   "source": [
    "trial = event_layout[0,0]"
   ]
  },
  {
   "cell_type": "code",
   "execution_count": 26,
   "id": "25cd3b65-3fef-471b-b20e-dddadbbaea64",
   "metadata": {},
   "outputs": [
    {
     "data": {
      "text/plain": [
       "0.000511"
      ]
     },
     "execution_count": 26,
     "metadata": {},
     "output_type": "execute_result"
    }
   ],
   "source": [
    "mass = pid_mass[int(abs(trial[4]))]\n",
    "mass"
   ]
  },
  {
   "cell_type": "code",
   "execution_count": 28,
   "id": "8cc95dba-a5f4-4152-befb-0b8691980197",
   "metadata": {},
   "outputs": [],
   "source": [
    "particle = Particle.Particle(np.array([0,0,0]), trial[:4], trial[4], mass)"
   ]
  },
  {
   "cell_type": "code",
   "execution_count": 30,
   "id": "e57a23e7-d93b-4866-9046-4cf084c026df",
   "metadata": {},
   "outputs": [],
   "source": [
    "detector_benchmark.new_particle_event(particle)"
   ]
  },
  {
   "cell_type": "code",
   "execution_count": 33,
   "id": "a6d8fa06-4b68-48be-aa82-8c35077f3d4c",
   "metadata": {},
   "outputs": [],
   "source": [
    "success = detector_benchmark.return_current_particle()"
   ]
  },
  {
   "cell_type": "code",
   "execution_count": 40,
   "id": "f33aaaf6-ab4d-4f73-9a64-c75f7250d506",
   "metadata": {},
   "outputs": [
    {
     "data": {
      "text/plain": [
       "[]"
      ]
     },
     "execution_count": 40,
     "metadata": {},
     "output_type": "execute_result"
    }
   ],
   "source": [
    "success.tracker_hits"
   ]
  },
  {
   "cell_type": "code",
   "execution_count": 46,
   "id": "737e2094-4de5-42c0-bb97-6d433e3468e0",
   "metadata": {},
   "outputs": [],
   "source": [
    "def format_det_particle(daughter):\n",
    "    return [*daughter.particle.momentum,\n",
    "            daughter.particle.pid,\n",
    "            len(daughter.tracker_hits),\n",
    "           daughter._visibility]"
   ]
  },
  {
   "cell_type": "code",
   "execution_count": 43,
   "id": "36542fd1-1f3f-43b6-968b-74082ed7fc9b",
   "metadata": {},
   "outputs": [],
   "source": [
    "position = (0,120,70)"
   ]
  },
  {
   "cell_type": "code",
   "execution_count": 47,
   "id": "13311bd3-1093-4e8c-828e-bb26ec1c6407",
   "metadata": {},
   "outputs": [],
   "source": [
    "all_events = ak.ArrayBuilder()\n",
    "\n",
    "for event in event_layout[:100]:\n",
    "    per_event = []\n",
    "    for daughter in event:\n",
    "        detector_benchmark.clear_detector()\n",
    "        try:\n",
    "            mass = pid_mass[int(abs(daughter[4]))]\n",
    "            particle = Particle.Particle(position, daughter[:4], daughter[4], mass)\n",
    "            detector_benchmark.new_particle_event(particle)\n",
    "            formatted = format_det_particle(detector_benchmark.return_current_particle())\n",
    "            per_event.append(formatted)\n",
    "        except KeyError:\n",
    "            pass\n",
    "    all_events.append(per_event)\n",
    "\n",
    "all_events = all_events.snapshot()"
   ]
  },
  {
   "cell_type": "code",
   "execution_count": 50,
   "id": "5cc6e95d-1006-422a-ac1a-84ad25844a71",
   "metadata": {},
   "outputs": [
    {
     "data": {
      "text/html": [
       "<pre>[[0.212, -0.101, 0.00954, -0.186, 11, 2],\n",
       " [1.22, -0.00916, -0.0679, 0.77, 2.21e+03, 0]]\n",
       "----------------------------------------------\n",
       "type: 2 * var * float64</pre>"
      ],
      "text/plain": [
       "<Array [[0.212, -0.101, 0.00954, ..., 11, 2], ...] type='2 * var * float64'>"
      ]
     },
     "execution_count": 50,
     "metadata": {},
     "output_type": "execute_result"
    }
   ],
   "source": [
    "all_events[1]"
   ]
  },
  {
   "cell_type": "code",
   "execution_count": null,
   "id": "4c1d5be2-c57f-40ba-9c62-9eb24f5f4df2",
   "metadata": {},
   "outputs": [],
   "source": []
  }
 ],
 "metadata": {
  "kernelspec": {
   "display_name": "Python 3 (ipykernel)",
   "language": "python",
   "name": "python3"
  },
  "language_info": {
   "codemirror_mode": {
    "name": "ipython",
    "version": 3
   },
   "file_extension": ".py",
   "mimetype": "text/x-python",
   "name": "python",
   "nbconvert_exporter": "python",
   "pygments_lexer": "ipython3",
   "version": "3.11.3"
  }
 },
 "nbformat": 4,
 "nbformat_minor": 5
}

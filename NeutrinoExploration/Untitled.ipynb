{
 "cells": [
  {
   "cell_type": "code",
   "execution_count": 1,
   "id": "534ab35f-3d65-4fdf-bd3d-7974253a007f",
   "metadata": {},
   "outputs": [],
   "source": [
    "import numpy as np\n",
    "import awkward as ak\n",
    "import uproot"
   ]
  },
  {
   "cell_type": "code",
   "execution_count": 2,
   "id": "734ec107-684b-4c95-ba1c-6eb7c24cd58c",
   "metadata": {},
   "outputs": [],
   "source": [
    "file = uproot.open('../../AllSimData/nue_0-1Gev_100kev_gntp.0.gst.root:gst;2')\n",
    "data = file.arrays(library = 'ak')"
   ]
  },
  {
   "cell_type": "code",
   "execution_count": 6,
   "id": "4401afde-31eb-4176-a1fa-ce019952b9dd",
   "metadata": {},
   "outputs": [
    {
     "data": {
      "text/html": [
       "<pre>[[-0.00271, -0.0445],\n",
       " [-0.101, -0.00916],\n",
       " [-0.126, 0.0828, -0.00854, -0.0166, 0.093, -0.0396, 0.0278],\n",
       " [0.232, -0.162],\n",
       " [-0.24, -0, 0.466],\n",
       " [0.197, -0.0959, -0.0158, 0.179, 0.0228, -0.077, 0.0222],\n",
       " [-0.0812, 0.234],\n",
       " [0.0104, 0.201, -0.128, -0.0573],\n",
       " [0.0725, 0.134, 0.0613, -0.0564, -0.0357],\n",
       " [0.00399, -0.455, 0.0868, 0],\n",
       " ...,\n",
       " [-0.0219, -0.289, 0.171, 0.0321, 0.04],\n",
       " [-0.0673, 0.106],\n",
       " [-0.00776, 0.115, -0.0694, -0.0353],\n",
       " [0.0863, -0.0491],\n",
       " [0.322, -0.0226, -0.109],\n",
       " [-0.236, 0.172, -0.0555, 0.113, 0.149, ..., 0.2, 0.0262, -0.229, -0.0113],\n",
       " [0.168, 0.0334, -0],\n",
       " [-0.00321, -0.0782, 0.146, -0.0488, 0.0372, ..., 0.0646, 0.0328, -0.01, 0.104],\n",
       " [-0.312, -0.0707, 0.0579]]\n",
       "--------------------------------------------------------------------------------\n",
       "type: 100000 * var * float64</pre>"
      ],
      "text/plain": [
       "<Array [[-0.00271, -0.0445], ..., [-0.312, ...]] type='100000 * var * float64'>"
      ]
     },
     "execution_count": 6,
     "metadata": {},
     "output_type": "execute_result"
    }
   ],
   "source": [
    "data['pxf']"
   ]
  },
  {
   "cell_type": "code",
   "execution_count": null,
   "id": "82b19808-9e95-41d8-9735-0d1b5934e4e7",
   "metadata": {},
   "outputs": [],
   "source": [
    "#What I would love -> for each event ( for each daughter (E, px, py, pz, pid) )\n",
    "#i.e. flip particle / quantity heirarchy (take transpose in those two dimensions)"
   ]
  },
  {
   "cell_type": "code",
   "execution_count": 50,
   "id": "a6de6b25-9dee-4fc1-aa3f-6b6b10cac860",
   "metadata": {},
   "outputs": [],
   "source": [
    "trial = ak.Array([data['Ef'], data['pxf'], data['pyf'], data['pzf'], data['pdgf']])"
   ]
  },
  {
   "cell_type": "code",
   "execution_count": 51,
   "id": "b408cd6d-ecad-4d31-83ea-299effd24f75",
   "metadata": {},
   "outputs": [
    {
     "data": {
      "text/html": [
       "<pre>[[[0.438, 1.23], [0.212, 1.22], ..., [0.00618, ...], [0.73, 0.974, 0.997]],\n",
       " [[-0.00271, -0.0445], [-0.101, -0.00916], ..., [-0.312, -0.0707, 0.0579]],\n",
       " [[-0.382, 0.407], [0.00954, -0.0679], ..., [...], [0.245, -0.227, 0.162]],\n",
       " [[0.214, 0.678], [-0.186, 0.77], ..., [-0.00296, ...], [0.613, -0.109, 0.29]],\n",
       " [[11, 2.21e+03], [11, 2.21e+03], ..., [22, ...], [12, 2.21e+03, 2.21e+03]]]\n",
       "-------------------------------------------------------------------------------\n",
       "type: 5 * var * var * float64</pre>"
      ],
      "text/plain": [
       "<Array [[[0.438, 1.23], ..., [0.73, ...]], ...] type='5 * var * var * float64'>"
      ]
     },
     "execution_count": 51,
     "metadata": {},
     "output_type": "execute_result"
    }
   ],
   "source": [
    "trial"
   ]
  },
  {
   "cell_type": "code",
   "execution_count": 65,
   "id": "cc8c207e-b469-42e3-b350-4fb5829030a6",
   "metadata": {},
   "outputs": [
    {
     "data": {
      "text/plain": [
       "100000"
      ]
     },
     "execution_count": 65,
     "metadata": {},
     "output_type": "execute_result"
    }
   ],
   "source": [
    "len(data['Ef'])"
   ]
  },
  {
   "cell_type": "code",
   "execution_count": 54,
   "id": "14b9f3c1-cf9f-465e-a81e-ab76dc2c13fa",
   "metadata": {},
   "outputs": [
    {
     "data": {
      "text/plain": [
       "array([[ 4.38130547e-01, -2.71428091e-03, -3.82151538e-01,\n",
       "         2.14268408e-01,  1.10000000e+01],\n",
       "       [ 1.22791742e+00, -4.45162060e-02,  4.07275750e-01,\n",
       "         6.77919877e-01,  2.21200000e+03]])"
      ]
     },
     "execution_count": 54,
     "metadata": {},
     "output_type": "execute_result"
    }
   ],
   "source": [
    "trial[:,0].to_numpy().T"
   ]
  },
  {
   "cell_type": "code",
   "execution_count": 63,
   "id": "d9730843-5e80-4658-93e0-35a9f4ffb09b",
   "metadata": {},
   "outputs": [],
   "source": [
    "builder = ak.ArrayBuilder()\n",
    "for i in range(data['iev'][-1] + 1):\n",
    "    builder.append(trial[:,i].to_numpy().T)\n",
    "    \n",
    "fixed = builder.snapshot()"
   ]
  },
  {
   "cell_type": "code",
   "execution_count": 64,
   "id": "2c4a036e-1303-4094-b073-dd5b6e893cd5",
   "metadata": {},
   "outputs": [
    {
     "data": {
      "text/html": [
       "<pre>[[0.438, -0.00271, -0.382, 0.214, 11],\n",
       " [1.23, -0.0445, 0.407, 0.678, 2.21e+03]]\n",
       "-----------------------------------------\n",
       "type: 2 * var * float64</pre>"
      ],
      "text/plain": [
       "<Array [[0.438, -0.00271, ..., 0.214, 11], [...]] type='2 * var * float64'>"
      ]
     },
     "execution_count": 64,
     "metadata": {},
     "output_type": "execute_result"
    }
   ],
   "source": [
    "fixed[0]"
   ]
  },
  {
   "cell_type": "code",
   "execution_count": null,
   "id": "8dfe0793-8ae6-454b-894b-148dedfc9eae",
   "metadata": {},
   "outputs": [],
   "source": []
  }
 ],
 "metadata": {
  "kernelspec": {
   "display_name": "Python 3 (ipykernel)",
   "language": "python",
   "name": "python3"
  },
  "language_info": {
   "codemirror_mode": {
    "name": "ipython",
    "version": 3
   },
   "file_extension": ".py",
   "mimetype": "text/x-python",
   "name": "python",
   "nbconvert_exporter": "python",
   "pygments_lexer": "ipython3",
   "version": "3.11.3"
  }
 },
 "nbformat": 4,
 "nbformat_minor": 5
}

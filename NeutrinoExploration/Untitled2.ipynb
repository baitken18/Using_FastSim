{
 "cells": [
  {
   "cell_type": "code",
   "execution_count": 1,
   "id": "52b182f0-13c7-4587-8ef1-410b1574d47d",
   "metadata": {},
   "outputs": [],
   "source": [
    "import pickle\n",
    "import numpy as np\n",
    "import awkward as ak"
   ]
  },
  {
   "cell_type": "code",
   "execution_count": 2,
   "id": "4fc1f016-71eb-46ce-8e64-2f76715c5ae5",
   "metadata": {},
   "outputs": [],
   "source": [
    "filename = '../NeutrinoResults/nue_0-1_results.pickle'\n",
    "with open(filename, 'rb') as f:\n",
    "    data = pickle.load(f)"
   ]
  },
  {
   "cell_type": "code",
   "execution_count": 3,
   "id": "61a17266-6faf-41fd-95df-e489cd58eaf0",
   "metadata": {},
   "outputs": [
    {
     "data": {
      "text/plain": [
       "{'Ev': array([0.74536355, 0.50638228, 0.2596089 , ..., 0.27900875, 0.41083932,\n",
       "        0.8209331 ]),\n",
       " 'weight': array([0.00477819, 0.01109697, 0.044105  , ..., 0.03714184, 0.0179995 ,\n",
       "        0.00379026]),\n",
       " 'position': array([  4.26159355, 130.51052978,  62.90732498, ...,  10.34739151,\n",
       "         77.46257714,  77.5602222 ]),\n",
       " 'daughters': <Array [[[0.438, -0.00271, ..., 1], ...], ...] type='100000 * var * var * f...'>}"
      ]
     },
     "execution_count": 3,
     "metadata": {},
     "output_type": "execute_result"
    }
   ],
   "source": [
    "data"
   ]
  },
  {
   "cell_type": "code",
   "execution_count": 4,
   "id": "872a7039-0e3e-42db-ab6e-0c467237431c",
   "metadata": {},
   "outputs": [
    {
     "data": {
      "text/html": [
       "<pre>[[[0.438, -0.00271, -0.382, -0.00271, 11, 2, 1], [1.23, -0.0445, ..., 0]],\n",
       " [[0.212, -0.101, 0.00954, -0.101, 11, 2, 0], [1.22, -0.00916, ..., 2, 0]],\n",
       " [[0.222, -0.126, 0.0304, -0.126, 11, 1, 0], ..., [0.94, 0.0278, ..., 0, -1]],\n",
       " [[0.686, 0.232, 0.409, 0.232, 11, 7, 1], [1.1, -0.162, -0.5, ..., 2, 0]],\n",
       " [[0.493, -0.24, -0.143, -0.24, 12, 0, -1], ..., [1.05, 0.466, ..., 7, 1]],\n",
       " [[0.204, 0.197, -0.014, 0.197, 11, 8, 1], ..., [0.178, 0.0222, ..., 0, -1]],\n",
       " [[0.47, -0.0812, -0.314, -0.0812, 12, 0, -1], [1.07, 0.234, ..., 6, 0]],\n",
       " [[0.0652, 0.0104, 0.0401, 0.0104, 11, 7, 0], ..., [0.116, -0.0573, ..., -1]],\n",
       " [[0.269, 0.0725, 0.183, 0.0725, 11, 0, 1], ..., [0.0725, -0.0357, ..., 0, -1]],\n",
       " [[0.00618, 0.00399, 0.00417, 0.00399, 22, 0, -1], ..., [0.94, 0, ..., 0, 1]],\n",
       " ...,\n",
       " [[0.111, -0.0219, -0.0309, -0.0219, 12, 0, -1], ..., [0.0418, 0.04, ..., -1]],\n",
       " [[0.107, -0.0673, -0.0275, -0.0673, 11, 2, 0], [1.04, 0.106, ..., 7, 0]],\n",
       " [[0.349, -0.00776, 0.206, -0.00776, 11, 0, 1], [...], ..., [0.0921, ..., -1]],\n",
       " [[0.224, 0.0863, 0.124, 0.0863, 11, 0, 0], [1.27, -0.0491, ..., 2, 0]],\n",
       " [[0.873, 0.322, -0.285, 0.322, 11, 0, 1], ..., [0.95, -0.109, ..., 0, -1]],\n",
       " [[0.365, -0.236, 0.0825, -0.236, 11, 2, 1], ..., [0.0312, -0.0113, ..., -1]],\n",
       " [[0.219, 0.168, 0.136, 0.168, 11, 7, 1], [...], [0.94, -0, 0, ..., 0, 1]],\n",
       " [[0.00618, -0.00321, 0.00438, -0.00321, 22, 0, -1], ..., [0.96, ..., -1]],\n",
       " [[0.73, -0.312, 0.245, -0.312, 12, 0, -1], ..., [0.997, 0.0579, ..., 6, 0]]]\n",
       "--------------------------------------------------------------------------------\n",
       "type: 100000 * var * var * float64</pre>"
      ],
      "text/plain": [
       "<Array [[[0.438, -0.00271, ..., 1], ...], ...] type='100000 * var * var * f...'>"
      ]
     },
     "execution_count": 4,
     "metadata": {},
     "output_type": "execute_result"
    }
   ],
   "source": [
    "data['daughters']"
   ]
  },
  {
   "cell_type": "code",
   "execution_count": 5,
   "id": "015dd15d-5f77-45d2-baf1-e4b6cc0db2a6",
   "metadata": {},
   "outputs": [],
   "source": [
    "import sys\n",
    "sys.path.insert(0,'../MomentumExtrapolation')\n",
    "from Closest_Approach_Histogram import *"
   ]
  },
  {
   "cell_type": "code",
   "execution_count": 6,
   "id": "be9a409e-b23d-4088-a252-389c28aee32a",
   "metadata": {},
   "outputs": [],
   "source": [
    "bool = get_reconstructable(data)"
   ]
  },
  {
   "cell_type": "code",
   "execution_count": 8,
   "id": "d883d68e-38b9-481d-b7f1-90f6c79b9a36",
   "metadata": {},
   "outputs": [],
   "source": [
    "recon = ak.sum(bool, axis = 1) >= 1"
   ]
  },
  {
   "cell_type": "code",
   "execution_count": 13,
   "id": "08174665-e3ff-4f57-ac33-f729440ca41a",
   "metadata": {},
   "outputs": [],
   "source": [
    "reconstructed_3p = ak.fill_none(ak.mask(data['daughters'][:,:,1:4], bool),\n",
    "                                    ak.Array([0,0,0]),axis = 1)"
   ]
  },
  {
   "cell_type": "code",
   "execution_count": 19,
   "id": "f5cb19f1-cb3c-44c6-b1e1-59734054447e",
   "metadata": {},
   "outputs": [],
   "source": [
    "a = ak.sum(reconstructed_3p, axis = 1)"
   ]
  },
  {
   "cell_type": "code",
   "execution_count": 45,
   "id": "835928ee-7e28-4424-9cbf-19d176d57a46",
   "metadata": {},
   "outputs": [
    {
     "data": {
      "text/plain": [
       "array([[0.08275005, 0.07964472, 0.08275005],\n",
       "       [0.23206389, 0.40939698, 0.23206389],\n",
       "       [0.46593575, 0.04180243, 0.46593575],\n",
       "       ...,\n",
       "       [0.16771961, 0.13629011, 0.16771961],\n",
       "       [0.22488873, 0.06252259, 0.22488873],\n",
       "       [0.05786751, 0.16195396, 0.05786751]])"
      ]
     },
     "execution_count": 45,
     "metadata": {},
     "output_type": "execute_result"
    }
   ],
   "source": [
    "ak.sum(reconstructed_3p[recon], axis = 1).to_numpy()"
   ]
  },
  {
   "cell_type": "code",
   "execution_count": 48,
   "id": "1c745678-26b2-41ac-a27b-be35241a7acf",
   "metadata": {},
   "outputs": [
    {
     "data": {
      "text/plain": [
       "array([[  4.26159355, 130.51052978,  62.90732498],\n",
       "       [ 25.3025939 ,  99.15226243,  69.59284812],\n",
       "       [-46.26401819, 134.90003576,  60.89647165],\n",
       "       ...,\n",
       "       [ -6.2414028 ,  85.01875744,  66.94178162],\n",
       "       [ 19.71319569, 127.87717771,  62.23017697],\n",
       "       [ 10.34739151,  77.46257714,  77.5602222 ]])"
      ]
     },
     "execution_count": 48,
     "metadata": {},
     "output_type": "execute_result"
    }
   ],
   "source": [
    "data['position'].reshape(len(data['weight']),3)"
   ]
  },
  {
   "cell_type": "code",
   "execution_count": 49,
   "id": "00933b9f-28bc-4c66-b31b-f02d016e67d6",
   "metadata": {},
   "outputs": [
    {
     "data": {
      "text/plain": [
       "array([  4.26159355, 130.51052978,  62.90732498, ...,  10.34739151,\n",
       "        77.46257714,  77.5602222 ])"
      ]
     },
     "execution_count": 49,
     "metadata": {},
     "output_type": "execute_result"
    }
   ],
   "source": [
    "data['position']"
   ]
  },
  {
   "cell_type": "code",
   "execution_count": null,
   "id": "eaab2408-f28b-4825-969a-4a24e8ae9c90",
   "metadata": {},
   "outputs": [],
   "source": []
  }
 ],
 "metadata": {
  "kernelspec": {
   "display_name": "Python 3 (ipykernel)",
   "language": "python",
   "name": "python3"
  },
  "language_info": {
   "codemirror_mode": {
    "name": "ipython",
    "version": 3
   },
   "file_extension": ".py",
   "mimetype": "text/x-python",
   "name": "python",
   "nbconvert_exporter": "python",
   "pygments_lexer": "ipython3",
   "version": "3.11.3"
  }
 },
 "nbformat": 4,
 "nbformat_minor": 5
}

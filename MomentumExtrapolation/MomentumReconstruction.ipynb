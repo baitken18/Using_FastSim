{
 "cells": [
  {
   "cell_type": "code",
   "execution_count": 1,
   "id": "00a85e8c-3a45-473f-a1ef-84d8998cf160",
   "metadata": {},
   "outputs": [],
   "source": [
    "import sys \n",
    "import os\n",
    "\n",
    "import numpy as np\n",
    "import awkward as ak\n",
    "\n",
    "sys.path.insert(0, '../../MATHUSLA_FastSim/')\n",
    "import DetectorSimulation.Detector as Detector\n",
    "\n",
    "sys.path.insert(0,'../../FastSim_Additions/')\n",
    "import Additions as ad\n",
    "import Event_Data_Structure as eds"
   ]
  },
  {
   "cell_type": "code",
   "execution_count": 2,
   "id": "e149c28e-c9bb-4e1e-84f8-1f32c3f1b84a",
   "metadata": {},
   "outputs": [],
   "source": [
    "fv_file = '../../SimulationData/ForMixingPlot/RHN_Ue_LLPweight4vectorBmesonlist_mN_0.316228.csv'\n",
    "fv_path = os.path.join(os.getcwd(), fv_file)\n",
    "length_file = '../../SimulationData/RHNctauUe.dat'\n",
    "len_path = os.path.join(os.getcwd(), length_file)\n",
    "product_file = '../../SimulationData/vN_to_all_0.314228_hadron_style.txt'\n",
    "prod_path = os.path.join(os.getcwd(), product_file)"
   ]
  },
  {
   "cell_type": "code",
   "execution_count": 3,
   "id": "522258a2-c103-4c69-8b61-363370fb2dd2",
   "metadata": {},
   "outputs": [],
   "source": [
    "mass = float(fv_file.split('_')[-1][:-4])\n",
    "mixing = 0.004\n",
    "ctau = ad.get_ctaus(mass = mass, mixing = mixing,length_file = len_path)\n",
    "detector_benchmark = ad.initiate_detector('../../MATHUSLA_FastSim/param_card_CDR.txt')"
   ]
  },
  {
   "cell_type": "code",
   "execution_count": 4,
   "id": "cfc650a8-2e5d-46ef-a6de-4bb0fb547798",
   "metadata": {},
   "outputs": [
    {
     "name": "stdout",
     "output_type": "stream",
     "text": [
      "do_sim: Runtime 4.007711600046605 s\n"
     ]
    }
   ],
   "source": [
    "vertices = ad.time_process(ad.do_sim, [fv_path, prod_path, ctau, mass, detector_benchmark, 10000])"
   ]
  },
  {
   "cell_type": "code",
   "execution_count": 5,
   "id": "4fb170e5-fe0d-462a-9e51-8b6611707a1e",
   "metadata": {},
   "outputs": [],
   "source": [
    "data = eds.to_data_structure(vertices)"
   ]
  },
  {
   "cell_type": "code",
   "execution_count": 12,
   "id": "d5156aec-1bf8-4295-bb77-ed0571c78a98",
   "metadata": {},
   "outputs": [
    {
     "data": {
      "text/plain": [
       "1.0"
      ]
     },
     "execution_count": 12,
     "metadata": {},
     "output_type": "execute_result"
    }
   ],
   "source": [
    "data['daughters'][1][0][6]"
   ]
  },
  {
   "cell_type": "code",
   "execution_count": 18,
   "id": "f3c837a3-d073-470c-9679-048fad5d4cd9",
   "metadata": {},
   "outputs": [],
   "source": [
    "bool1 = data['daughters'][:,:,5] >= 4"
   ]
  },
  {
   "cell_type": "code",
   "execution_count": 19,
   "id": "0aeaab0d-c66f-4921-8c64-c223d147786f",
   "metadata": {},
   "outputs": [],
   "source": [
    "bool2 = data['daughters'][:,:,6] == 1"
   ]
  },
  {
   "cell_type": "code",
   "execution_count": 22,
   "id": "ec50dcf1-4bc0-4b84-af07-028360387417",
   "metadata": {},
   "outputs": [],
   "source": [
    "reconstructable = bool1 & bool2"
   ]
  },
  {
   "cell_type": "code",
   "execution_count": 143,
   "id": "d66ee915-1fe7-47b2-a0a7-642aa38ccfc4",
   "metadata": {},
   "outputs": [],
   "source": [
    "vertex_constructed_3p = ak.sum(data['daughters'][reconstructable][:,:,1:4], axis = 1)\n",
    "at_least_one_momentum = ak.sum(reconstructable, axis = 1) >= 1"
   ]
  },
  {
   "cell_type": "code",
   "execution_count": 49,
   "id": "106daf58-c812-425d-b22c-c30aed11b162",
   "metadata": {},
   "outputs": [],
   "source": [
    "important_pos = data['position'][at_least_one_momentum]"
   ]
  },
  {
   "cell_type": "code",
   "execution_count": 51,
   "id": "cb80f3a7-0eb9-4ca9-a4e1-d5f42c07c616",
   "metadata": {},
   "outputs": [
    {
     "data": {
      "text/plain": [
       "(727, 3)"
      ]
     },
     "execution_count": 51,
     "metadata": {},
     "output_type": "execute_result"
    }
   ],
   "source": [
    "important_pos.shape"
   ]
  },
  {
   "cell_type": "code",
   "execution_count": 62,
   "id": "8ac1556e-c1b1-4b3f-b454-3fbc66b44a28",
   "metadata": {},
   "outputs": [],
   "source": [
    "three_p = ak.mask(data['daughters'][:,:,1:4],reconstructable)"
   ]
  },
  {
   "cell_type": "code",
   "execution_count": 70,
   "id": "7972e8fc-1f40-4cfb-b594-0e7858cd545b",
   "metadata": {},
   "outputs": [],
   "source": [
    "three_p_stage2 = ak.sum(ak.fill_none(three_p, ak.Array([0,0,0]), axis = 1), axis = 1)"
   ]
  },
  {
   "cell_type": "code",
   "execution_count": 150,
   "id": "af4b7ce0-c2f5-4e96-8fde-8e765ccc4382",
   "metadata": {},
   "outputs": [],
   "source": [
    "test = three_p_stage2.to_numpy()"
   ]
  },
  {
   "cell_type": "code",
   "execution_count": 155,
   "id": "3f2c4a7e-ee87-4b49-9385-2597b5cd33d7",
   "metadata": {},
   "outputs": [
    {
     "data": {
      "text/plain": [
       "(727, 3)"
      ]
     },
     "execution_count": 155,
     "metadata": {},
     "output_type": "execute_result"
    }
   ],
   "source": [
    "test[np.linalg.norm(test, axis = 1) > 0].shape"
   ]
  },
  {
   "cell_type": "code",
   "execution_count": 78,
   "id": "1ffe9fb1-51e1-4261-ba88-89815af976d3",
   "metadata": {},
   "outputs": [],
   "source": [
    "momentum_recon_bool = np.abs(ak.sum(three_p_stage2, axis = 1)) > 0"
   ]
  },
  {
   "cell_type": "code",
   "execution_count": 84,
   "id": "5f3ee423-0d78-4e2f-8d39-dca2e60b40ec",
   "metadata": {},
   "outputs": [],
   "source": [
    "recon_3p = three_p_stage2[momentum_recon_bool].to_numpy()"
   ]
  },
  {
   "cell_type": "code",
   "execution_count": 89,
   "id": "54cbe7f0-2646-409b-9543-87bb87ee00e3",
   "metadata": {},
   "outputs": [
    {
     "data": {
      "text/plain": [
       "array([[0.50171234, 0.99383346, 0.79158675],\n",
       "       [0.12539677, 0.0830502 , 0.16347547],\n",
       "       [0.23901246, 2.08879906, 1.83025651],\n",
       "       ...,\n",
       "       [0.43386628, 0.35750363, 0.22678386],\n",
       "       [0.06871242, 0.30879934, 0.39639791],\n",
       "       [0.40671136, 2.19107015, 1.75223919]])"
      ]
     },
     "execution_count": 89,
     "metadata": {},
     "output_type": "execute_result"
    }
   ],
   "source": [
    "recon_3p"
   ]
  },
  {
   "cell_type": "code",
   "execution_count": 108,
   "id": "9ebf970e-56a2-4690-bf71-68764b3ebe8f",
   "metadata": {},
   "outputs": [
    {
     "data": {
      "text/plain": [
       "(727, 3)"
      ]
     },
     "execution_count": 108,
     "metadata": {},
     "output_type": "execute_result"
    }
   ],
   "source": [
    "recon_3p.shape"
   ]
  },
  {
   "cell_type": "code",
   "execution_count": 109,
   "id": "7ebfafef-a2e4-472b-abc8-f1f4d8de30f6",
   "metadata": {},
   "outputs": [
    {
     "data": {
      "text/plain": [
       "(3, 727)"
      ]
     },
     "execution_count": 109,
     "metadata": {},
     "output_type": "execute_result"
    }
   ],
   "source": [
    "important_pos.T.shape"
   ]
  },
  {
   "cell_type": "code",
   "execution_count": 90,
   "id": "bfd2ea67-311c-4fec-8082-ccbac4e9b5b8",
   "metadata": {},
   "outputs": [
    {
     "data": {
      "text/plain": [
       "array([[ 35.69210578, 121.17331433,  79.40735659],\n",
       "       [-38.22493635,  88.76515934,  64.152305  ],\n",
       "       [  2.1856338 ,  86.14681616,  77.32242605],\n",
       "       ...,\n",
       "       [ 43.41341768, 131.93370486,  83.69267285],\n",
       "       [-14.59294752,  84.75439935,  70.01761091],\n",
       "       [  7.75856359,  74.41489626,  61.32220629]])"
      ]
     },
     "execution_count": 90,
     "metadata": {},
     "output_type": "execute_result"
    }
   ],
   "source": [
    "important_pos"
   ]
  },
  {
   "cell_type": "code",
   "execution_count": 129,
   "id": "93eadc8a-1662-4fc6-86f8-14716fff76aa",
   "metadata": {},
   "outputs": [],
   "source": [
    "def separate_dot(x,y):\n",
    "    return np.sum(x * y, axis = 1)\n",
    "\n",
    "def proj(x,y):\n",
    "    return separate_dot(x,y) * y.T / np.linalg.norm(y, axis = 1)**2\n",
    "\n",
    "def nearest_approach(position, momentum):\n",
    "    projection = position - proj(position, momentum).T\n",
    "    return np.linalg.norm(projection, axis = 1)"
   ]
  },
  {
   "cell_type": "code",
   "execution_count": 130,
   "id": "460b8167-7f6d-4c7f-b727-c6f5292612b2",
   "metadata": {},
   "outputs": [
    {
     "data": {
      "text/plain": [
       "(727,)"
      ]
     },
     "execution_count": 130,
     "metadata": {},
     "output_type": "execute_result"
    }
   ],
   "source": [
    "separate_dot(important_pos, recon_3p).shape"
   ]
  },
  {
   "cell_type": "code",
   "execution_count": 131,
   "id": "546508f7-2e46-42de-b6fb-34fdf87712a3",
   "metadata": {},
   "outputs": [
    {
     "data": {
      "text/plain": [
       "array([[ 54.09347962, 107.15285616,  85.34707723],\n",
       "       [ 33.20305952,  21.99036659,  43.28569005],\n",
       "       [  9.90451921,  86.55846014,  75.84462701],\n",
       "       ...,\n",
       "       [100.33495406,  82.67549714,  52.44553196],\n",
       "       [ 14.13846697,  63.53944687,  81.56398402],\n",
       "       [ 13.84905718,  74.60882299,  59.66605112]])"
      ]
     },
     "execution_count": 131,
     "metadata": {},
     "output_type": "execute_result"
    }
   ],
   "source": [
    "(separate_dot(important_pos, recon_3p) * recon_3p.T / np.linalg.norm(recon_3p, axis = 1)**2).T"
   ]
  },
  {
   "cell_type": "code",
   "execution_count": 135,
   "id": "aa0b40c8-4d3a-4707-96e7-e1946e6efef1",
   "metadata": {},
   "outputs": [],
   "source": [
    "approach = nearest_approach(important_pos, recon_3p)"
   ]
  },
  {
   "cell_type": "code",
   "execution_count": 136,
   "id": "c36329ad-9173-4db2-9d7b-6704609a5b28",
   "metadata": {},
   "outputs": [],
   "source": [
    "import matplotlib.pyplot as plt"
   ]
  },
  {
   "cell_type": "code",
   "execution_count": 158,
   "id": "3427a07f-e26f-4317-8cfc-c9611b0bde92",
   "metadata": {},
   "outputs": [
    {
     "data": {
      "text/plain": [
       "<matplotlib.legend.Legend at 0x180c9f08a10>"
      ]
     },
     "execution_count": 158,
     "metadata": {},
     "output_type": "execute_result"
    },
    {
     "data": {
      "image/png": "[encoded data removed]",
      "text/plain": [
       "<Figure size 640x480 with 1 Axes>"
      ]
     },
     "metadata": {},
     "output_type": "display_data"
    }
   ],
   "source": [
    "plt.hist(approach, bins = np.arange(-1,180, 4), histtype = 'step', label = 'RHN')\n",
    "plt.grid()\n",
    "plt.legend(title = 'Model')"
   ]
  },
  {
   "cell_type": "code",
   "execution_count": null,
   "id": "ad58ac14-6fb1-4eed-beb1-b0fccfb97433",
   "metadata": {},
   "outputs": [],
   "source": []
  }
 ],
 "metadata": {
  "kernelspec": {
   "display_name": "Python 3 (ipykernel)",
   "language": "python",
   "name": "python3"
  },
  "language_info": {
   "codemirror_mode": {
    "name": "ipython",
    "version": 3
   },
   "file_extension": ".py",
   "mimetype": "text/x-python",
   "name": "python",
   "nbconvert_exporter": "python",
   "pygments_lexer": "ipython3",
   "version": "3.11.3"
  }
 },
 "nbformat": 4,
 "nbformat_minor": 5
}

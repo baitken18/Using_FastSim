{
 "cells": [
  {
   "cell_type": "code",
   "execution_count": 1,
   "id": "cfdce3b8-bf4d-4588-a58f-46aef61762e5",
   "metadata": {},
   "outputs": [],
   "source": [
    "import sys\n",
    "import os\n",
    "from os.path import join\n",
    "from tqdm.notebook import tqdm\n",
    "import numba\n",
    "\n",
    "import numpy as np\n",
    "import awkward as ak\n",
    "\n",
    "sys.path.insert(0, '../MATHUSLA_FastSim/')\n",
    "import DetectorSimulation.Detector as Detector\n",
    "import DetectorSimulation.Particle as Particle\n",
    "import DetectorSimulation.Vertex as Vertex\n",
    "import DetectorSimulation.lorentz_transformation as lt\n",
    "import DetectorSimulation.llp_gun as llp_gun\n",
    "## depending on which fvs are used load a different specialized llp gun (llp_gun_new) (built on top of llp_gun)\n",
    "import DetectorSimulation.llp_gun_new as lg\n",
    "from Helpers.functions import *\n",
    "\n",
    "sys.path.insert(0,'../FastSim_Additions/')\n",
    "from Additions import initiate_detector"
   ]
  },
  {
   "cell_type": "code",
   "execution_count": 2,
   "id": "fa537720-32ee-47ea-8444-81a4dba0b675",
   "metadata": {},
   "outputs": [],
   "source": [
    "fv_path = join(os.getcwd(), \"../SimulationData/RHN_Utau_LLPweight4vectorBmesonlist_mN_0.1.csv\")\n",
    "vectors = read_vectors(fv_path, 50)"
   ]
  },
  {
   "cell_type": "code",
   "execution_count": 3,
   "id": "bfd0c252-27d2-42c2-aac4-cc45130149dc",
   "metadata": {},
   "outputs": [],
   "source": [
    "detector_benchmark = initiate_detector()\n",
    "phi_min, phi_max, theta_min, theta_max = get_detector_angles(detector_benchmark)"
   ]
  },
  {
   "cell_type": "code",
   "execution_count": 4,
   "id": "1cf00d91-1bce-4862-8dda-3afae282db86",
   "metadata": {},
   "outputs": [],
   "source": [
    "def get_decay_products():\n",
    "    products = [[13,13], [11,11], [11,13], [11,12,13], [12,12,13]]\n",
    "    index = np.random.randint(0, len(products))\n",
    "    return products[index]"
   ]
  },
  {
   "cell_type": "code",
   "execution_count": 5,
   "id": "dc50edfc-192a-4f0e-9e64-ab15920d2ea6",
   "metadata": {},
   "outputs": [
    {
     "data": {
      "text/plain": [
       "array([[-5.89417714e-01, -8.44930968e-02,  1.64605859e-01,\n",
       "         5.50616990e-01],\n",
       "       [-6.01994088e-01, -7.36149759e-02,  5.12447304e-01,\n",
       "        -2.90474573e-01],\n",
       "       [-2.09029952e+00,  1.87396231e-01,  1.98088328e+00,\n",
       "        -6.32721232e-01],\n",
       "       [-1.95372003e+00,  1.63880437e+00, -6.31572425e-01,\n",
       "        -8.49975569e-01],\n",
       "       [-2.89373251e+00,  3.93116560e-01, -1.82437338e+00,\n",
       "         2.20925530e+00],\n",
       "       [-2.77387863e+01, -1.93927025e-01,  3.34907028e+00,\n",
       "        -2.75350029e+01],\n",
       "       [-9.13000630e-01,  2.75152235e-01, -1.08765942e-01,\n",
       "         8.57922705e-01],\n",
       "       [-5.93354682e-01,  3.47657893e-01, -2.39729342e-02,\n",
       "        -4.69711685e-01],\n",
       "       [-1.01197275e+00,  4.06140908e-01,  5.44352710e-01,\n",
       "        -7.43517678e-01],\n",
       "       [-9.75722192e+01,  7.29014423e-01,  1.31622341e+01,\n",
       "         9.66775677e+01],\n",
       "       [-1.45502647e+00, -8.76318885e-01,  7.67905821e-01,\n",
       "         8.65729680e-01],\n",
       "       [-8.78067178e+00,  1.94709675e-01, -7.85562961e-01,\n",
       "         8.74272131e+00],\n",
       "       [-1.16213530e-01,  4.66536334e-02,  3.63059804e-02,\n",
       "         3.30133169e-03],\n",
       "       [-3.96448995e+00,  3.18438105e-01,  4.78052740e-01,\n",
       "        -3.92138284e+00],\n",
       "       [-1.00134070e+00, -1.94359089e-01,  7.72203465e-01,\n",
       "         5.98840176e-01],\n",
       "       [-4.25113679e+01, -2.30067278e-01,  7.15155857e+00,\n",
       "         4.19047572e+01],\n",
       "       [-1.81838438e+00,  7.24906900e-01,  1.28670714e+00,\n",
       "        -1.05613279e+00],\n",
       "       [-1.13029304e+00, -8.73563902e-01,  7.10243811e-01,\n",
       "        -1.48199254e-03],\n",
       "       [-4.90501435e-01,  3.32523116e-01, -1.06199023e-01,\n",
       "        -3.29760220e-01],\n",
       "       [-1.88777994e+00, -5.97410686e-01,  6.47872478e-01,\n",
       "        -1.66645577e+00],\n",
       "       [-1.84761027e+00,  7.36259494e-01,  5.26113102e-01,\n",
       "        -1.60772842e+00],\n",
       "       [-1.69533595e+00, -8.71771754e-01,  1.42272184e+00,\n",
       "         2.82914379e-01],\n",
       "       [-2.34915572e+01,  1.57617088e+00,  5.81906979e+00,\n",
       "         2.27045672e+01],\n",
       "       [-2.43804163e+00,  1.53911326e-01,  2.40234294e+00,\n",
       "         3.72970049e-01],\n",
       "       [-3.16972698e+00,  2.75022842e-01,  3.15475346e+00,\n",
       "         9.51954213e-02],\n",
       "       [-3.24439799e-01, -1.64875449e-01,  1.94845766e-01,\n",
       "        -1.73529239e-01],\n",
       "       [-1.50206342e+01,  2.46786818e+00,  5.86043051e+00,\n",
       "        -1.36078813e+01],\n",
       "       [-5.47185234e-01,  7.08586728e-03,  1.07958822e-02,\n",
       "        -5.37814949e-01],\n",
       "       [-3.70999883e+00, -2.28955021e+00,  2.83752439e+00,\n",
       "        -6.78606249e-01],\n",
       "       [-1.41205360e+00,  3.78552986e-01,  1.24210431e+00,\n",
       "        -5.45682941e-01],\n",
       "       [-7.27126463e+00, -9.74368420e-01,  1.34500665e+00,\n",
       "         7.07833685e+00],\n",
       "       [-1.51756623e+00, -7.99144051e-01,  5.82764209e-01,\n",
       "         1.14663069e+00],\n",
       "       [-1.11541180e+01,  6.22253837e-02,  3.02484404e+00,\n",
       "         1.07354923e+01],\n",
       "       [-3.43040523e-01, -2.67189740e-01, -1.22930437e-01,\n",
       "         1.45514780e-01],\n",
       "       [-3.37814478e+00, -1.43232911e+00, -7.76215202e-01,\n",
       "        -2.95766554e+00],\n",
       "       [-6.89604044e+00,  2.86862106e-01,  2.36322729e+00,\n",
       "        -6.47133995e+00],\n",
       "       [-9.33129201e+00,  1.12176555e+00,  7.30041897e+00,\n",
       "         5.70162568e+00],\n",
       "       [-1.13568236e+00,  4.92501420e-01, -4.30577616e-01,\n",
       "         9.22940787e-01],\n",
       "       [-3.28722396e+00, -1.24500158e-01,  4.51772093e-01,\n",
       "         3.25211363e+00],\n",
       "       [-1.16051672e+00, -1.57987994e-01,  8.28784943e-01,\n",
       "         7.90540550e-01],\n",
       "       [-1.71272313e+00,  2.56533833e-01,  1.00382755e-01,\n",
       "        -1.68746384e+00],\n",
       "       [-1.03777814e+01, -8.94039137e-01,  1.25022145e+00,\n",
       "         1.02628449e+01],\n",
       "       [-3.45175379e-01, -1.21797667e-02,  1.24435751e-01,\n",
       "         3.05799672e-01],\n",
       "       [-1.03244512e+01, -1.55897445e+00,  5.96274355e+00,\n",
       "        -8.28248634e+00],\n",
       "       [-2.43291309e+00,  7.26002185e-01,  1.09321408e+00,\n",
       "         2.04618423e+00],\n",
       "       [-1.65295052e+00,  5.74606017e-01,  1.52997254e+00,\n",
       "        -2.26400899e-01],\n",
       "       [-1.58978434e+00, -2.19080684e-01,  8.04675932e-01,\n",
       "        -1.34978314e+00],\n",
       "       [-2.00281484e+01, -1.81496933e+00,  4.51327941e+00,\n",
       "         1.94281477e+01],\n",
       "       [-1.71825662e-01, -1.00615259e-01,  1.80622834e-02,\n",
       "         9.52595494e-02],\n",
       "       [-7.16073098e-01, -2.05544293e-01,  2.12703632e-01,\n",
       "        -6.44413990e-01]])"
      ]
     },
     "execution_count": 5,
     "metadata": {},
     "output_type": "execute_result"
    }
   ],
   "source": [
    "np.array(vectors)[:,1:]"
   ]
  },
  {
   "cell_type": "code",
   "execution_count": 6,
   "id": "2a3bc08c-3857-4f8e-883e-7ce338ec4fd6",
   "metadata": {},
   "outputs": [
    {
     "data": {
      "application/vnd.jupyter.widget-view+json": {
       "model_id": "b955a454f56b442188d09e143b4652f4",
       "version_major": 2,
       "version_minor": 0
      },
      "text/plain": [
       "  0%|          | 0/50 [00:00<?, ?it/s]"
      ]
     },
     "metadata": {},
     "output_type": "display_data"
    }
   ],
   "source": [
    "ctau = 100\n",
    "mass = 1\n",
    "\n",
    "storage = []\n",
    "\n",
    "for k in tqdm(range(len(vectors))):\n",
    "    \n",
    "    llp_4p = vectors[k][1:]\n",
    "    llp_theta = get_theta(llp_4p[1:])\n",
    "    \n",
    "    if (llp_theta < theta_max) and (llp_theta > theta_min):\n",
    "        detector_benchmark.clear_detector()\n",
    "        \n",
    "        rotated_llp_4p = deal_with_phi(llp_4p, phi_min, phi_max)\n",
    "        pack = get_weight(rotated_llp_4p, mass, ctau, detector_benchmark)\n",
    "        \n",
    "        if pack is not None:\n",
    "            p_decay, p_pos, boost = pack\n",
    "            \n",
    "            decay_products = get_decay_products()\n",
    "            if len(decay_products) == 2:\n",
    "                llp_vertex = lg.get_llp('leptonic2body', mass, p_pos, boost, decay_products)\n",
    "            else:\n",
    "                llp_vertex = lg.get_llp('leptonic3body', mass, p_pos, boost, decay_products)\n",
    "                \n",
    "            if llp_vertex is not None:\n",
    "                detector_benchmark.new_vertex_event(llp_vertex)\n",
    "\n",
    "                storage.append(detector_benchmark.return_current_vertex())\n",
    "                "
   ]
  },
  {
   "cell_type": "code",
   "execution_count": 7,
   "id": "449759fa-d811-4be5-957a-47d3fad8e652",
   "metadata": {},
   "outputs": [],
   "source": [
    "for_study = detector_benchmark.return_current_vertex()"
   ]
  },
  {
   "cell_type": "code",
   "execution_count": 8,
   "id": "87a329d7-fc13-461d-99e0-c8178ba027ef",
   "metadata": {},
   "outputs": [
    {
     "data": {
      "text/plain": [
       "array([1.92931216, 0.27339883, 1.52997254, 0.55378924])"
      ]
     },
     "execution_count": 8,
     "metadata": {},
     "output_type": "execute_result"
    }
   ],
   "source": [
    "for_study.vertex.momentum"
   ]
  },
  {
   "cell_type": "code",
   "execution_count": 9,
   "id": "c023e590-e1c1-4325-9f25-db3ba5b2c687",
   "metadata": {},
   "outputs": [
    {
     "data": {
      "text/plain": [
       "[]"
      ]
     },
     "execution_count": 9,
     "metadata": {},
     "output_type": "execute_result"
    }
   ],
   "source": [
    "for_study.particles[1].tracker_hits"
   ]
  },
  {
   "cell_type": "code",
   "execution_count": null,
   "id": "352b1174-992e-4cb2-8ee7-0438ac02eb4d",
   "metadata": {},
   "outputs": [],
   "source": []
  },
  {
   "cell_type": "code",
   "execution_count": 10,
   "id": "5daf8c38-3dad-4dcc-94c1-7bd3065eb821",
   "metadata": {},
   "outputs": [
    {
     "name": "stdout",
     "output_type": "stream",
     "text": [
      "11\n",
      "[0.41187378 0.1737054  0.29522351 0.22871218]\n",
      "1\n",
      "12\n",
      "[ 0.1467769   0.10901865 -0.0756024  -0.06279068]\n",
      "0\n",
      "13\n",
      "[ 1.37066148 -0.00932522  1.31035143  0.38786775]\n",
      "1\n"
     ]
    }
   ],
   "source": [
    "daughters = []\n",
    "\n",
    "for daughter in for_study.particles:\n",
    "    print(daughter.particle.pid)\n",
    "    print(daughter.particle.momentum)\n",
    "    print(len(daughter.tracker_hits))\n",
    "    info = ak.Array([daughter.particle.pid,\n",
    "              daughter.particle.momentum,\n",
    "              len(daughter.tracker_hits)])\n",
    "    daughters.append(info)"
   ]
  },
  {
   "cell_type": "code",
   "execution_count": 11,
   "id": "64ce366a-a836-4a3c-a379-3381b82d65e0",
   "metadata": {},
   "outputs": [
    {
     "data": {
      "text/html": [
       "<pre>[[11, [0.412, 0.174, 0.295, 0.229], 1],\n",
       " [12, [0.147, 0.109, -0.0756, -0.0628], 0],\n",
       " [13, [1.37, -0.00933, 1.31, 0.388], 1]]\n",
       "-------------------------------------------\n",
       "type: 3 * var * union[\n",
       "    int64,\n",
       "    var * float64\n",
       "]</pre>"
      ],
      "text/plain": [
       "<Array [[11, [0.412, ..., 0.229], 1], ...] type='3 * var * union[int64, var...'>"
      ]
     },
     "execution_count": 11,
     "metadata": {},
     "output_type": "execute_result"
    }
   ],
   "source": [
    "ak.Array(daughters)"
   ]
  },
  {
   "cell_type": "code",
   "execution_count": 12,
   "id": "0a48e6f2-4f37-4c88-be16-e4473d8d76cd",
   "metadata": {},
   "outputs": [
    {
     "data": {
      "text/plain": [
       "[]"
      ]
     },
     "execution_count": 12,
     "metadata": {},
     "output_type": "execute_result"
    }
   ],
   "source": [
    "for_study.recon_criteria"
   ]
  },
  {
   "cell_type": "code",
   "execution_count": 12,
   "id": "ae20f705-0cf9-403c-a77e-f61916800dea",
   "metadata": {},
   "outputs": [],
   "source": [
    "proposed_struct = ak.Array([for_study.vertex.position,\n",
    "                            for_study.vertex.momentum,\n",
    "                            daughters,\n",
    "                            for_study.recon_criteria,\n",
    "                            for_study.wall_hit])"
   ]
  },
  {
   "cell_type": "code",
   "execution_count": 13,
   "id": "d1a7c003-8a86-467e-b218-ddab00e68645",
   "metadata": {},
   "outputs": [],
   "source": [
    "sys.path.insert(0, '../FastSim_Additions')\n",
    "from Event_Data_Structure import *"
   ]
  },
  {
   "cell_type": "code",
   "execution_count": 14,
   "id": "ff347193-c1fb-4754-ab80-56654064f0df",
   "metadata": {},
   "outputs": [
    {
     "data": {
      "text/plain": [
       "[<DetectorSimulation.Detector.DetectorVertex at 0x293af9fff10>,\n",
       " <DetectorSimulation.Detector.DetectorVertex at 0x293b2f86f50>,\n",
       " <DetectorSimulation.Detector.DetectorVertex at 0x293adb75dd0>,\n",
       " <DetectorSimulation.Detector.DetectorVertex at 0x293afa5b290>,\n",
       " <DetectorSimulation.Detector.DetectorVertex at 0x293b2f8b090>,\n",
       " <DetectorSimulation.Detector.DetectorVertex at 0x293af9c7690>,\n",
       " <DetectorSimulation.Detector.DetectorVertex at 0x293b2f9a750>,\n",
       " <DetectorSimulation.Detector.DetectorVertex at 0x293b2f9c1d0>,\n",
       " <DetectorSimulation.Detector.DetectorVertex at 0x293b2f99190>,\n",
       " <DetectorSimulation.Detector.DetectorVertex at 0x293b2f9f490>]"
      ]
     },
     "execution_count": 14,
     "metadata": {},
     "output_type": "execute_result"
    }
   ],
   "source": [
    "storage"
   ]
  },
  {
   "cell_type": "code",
   "execution_count": 15,
   "id": "5b3ab990-4653-46b8-853c-0a928ce8df72",
   "metadata": {},
   "outputs": [],
   "source": [
    "test = multi_event_data(storage)"
   ]
  },
  {
   "cell_type": "code",
   "execution_count": 9,
   "id": "8e42cb4d-fe89-4281-af87-d966579c1adc",
   "metadata": {},
   "outputs": [],
   "source": [
    "data_to_pickle(test, 'FirstPkl.pickle')"
   ]
  },
  {
   "cell_type": "code",
   "execution_count": 10,
   "id": "6c3d84f0-c386-47d2-9d92-e5894e196a40",
   "metadata": {},
   "outputs": [],
   "source": [
    "with open('FirstPkl.pickle', 'rb') as f:\n",
    "    data_in = pickle.load(f)"
   ]
  },
  {
   "cell_type": "code",
   "execution_count": 52,
   "id": "b3101477-1cb2-4dea-a0c9-234afe655895",
   "metadata": {},
   "outputs": [
    {
     "data": {
      "text/html": [
       "<pre>[[1.16, 0.00573, 0.512, 0.3],\n",
       " [1.41, -0.209, 0.772, 0.594],\n",
       " [2.07, 0.043, 1.29, 1.28],\n",
       " [1.97, -0.154, 1.42, 0.903],\n",
       " [1.05, -0.067, 0.195, 0.23],\n",
       " [3.84, -0.172, 2.84, 2.38],\n",
       " [1.73, 0.329, 1.24, 0.577],\n",
       " [9.38, -2.26, 7.3, 5.35],\n",
       " [1.53, -0.472, 0.829, 0.654],\n",
       " [1.93, 0.273, 1.53, 0.554]]\n",
       "------------------------------\n",
       "type: 10 * union[\n",
       "    var * union[\n",
       "        float64,\n",
       "        var * union[\n",
       "            var * float64,\n",
       "            int64\n",
       "        ],\n",
       "        string\n",
       "    ],\n",
       "    {\n",
       "        LLP_DECAY: bool,\n",
       "        LLP_DETECTOR: bool,\n",
       "        DECAY: bool,\n",
       "        DETECTOR: bool\n",
       "    }\n",
       "]</pre>"
      ],
      "text/plain": [
       "<Array [[1.16, 0.00573, 0.512, 0.3], ...] type='10 * union[var * union[floa...'>"
      ]
     },
     "execution_count": 52,
     "metadata": {},
     "output_type": "execute_result"
    }
   ],
   "source": [
    "test[:,1]"
   ]
  },
  {
   "cell_type": "code",
   "execution_count": 57,
   "id": "2d8a1f92-4e17-4ab1-a04f-e0223e41bec9",
   "metadata": {},
   "outputs": [
    {
     "ename": "ValueError",
     "evalue": "cannot broadcast nested list",
     "output_type": "error",
     "traceback": [
      "\u001b[1;31m---------------------------------------------------------------------------\u001b[0m",
      "\u001b[1;31mValueError\u001b[0m                                Traceback (most recent call last)",
      "Cell \u001b[1;32mIn[57], line 6\u001b[0m\n\u001b[0;32m      3\u001b[0m llpp4 \u001b[38;5;241m=\u001b[39m ak\u001b[38;5;241m.\u001b[39mArray([[\u001b[38;5;241m1.16\u001b[39m, \u001b[38;5;241m0.00573\u001b[39m, \u001b[38;5;241m0.512\u001b[39m, \u001b[38;5;241m0.3\u001b[39m],\n\u001b[0;32m      4\u001b[0m  [\u001b[38;5;241m1.41\u001b[39m, \u001b[38;5;241m-\u001b[39m\u001b[38;5;241m0.209\u001b[39m, \u001b[38;5;241m0.772\u001b[39m, \u001b[38;5;241m0.594\u001b[39m]])\n\u001b[0;32m      5\u001b[0m ak\u001b[38;5;241m.\u001b[39mcartesian([llppos,llpp4])\n\u001b[1;32m----> 6\u001b[0m alldata \u001b[38;5;241m=\u001b[39m ak\u001b[38;5;241m.\u001b[39mzip({\u001b[38;5;124m'\u001b[39m\u001b[38;5;124mllppos\u001b[39m\u001b[38;5;124m'\u001b[39m:llppos,\u001b[38;5;124m'\u001b[39m\u001b[38;5;124mllpp4\u001b[39m\u001b[38;5;124m'\u001b[39m:llpp4})\n",
      "File \u001b[1;32m~\\anaconda3\\envs\\spyder\\Lib\\site-packages\\awkward\\_dispatch.py:60\u001b[0m, in \u001b[0;36mnamed_high_level_function.<locals>.dispatch\u001b[1;34m(*args, **kwargs)\u001b[0m\n\u001b[0;32m     58\u001b[0m \u001b[38;5;66;03m# Failed to find a custom overload, so resume the original function\u001b[39;00m\n\u001b[0;32m     59\u001b[0m \u001b[38;5;28;01mtry\u001b[39;00m:\n\u001b[1;32m---> 60\u001b[0m     \u001b[38;5;28mnext\u001b[39m(gen_or_result)\n\u001b[0;32m     61\u001b[0m \u001b[38;5;28;01mexcept\u001b[39;00m \u001b[38;5;167;01mStopIteration\u001b[39;00m \u001b[38;5;28;01mas\u001b[39;00m err:\n\u001b[0;32m     62\u001b[0m     \u001b[38;5;28;01mreturn\u001b[39;00m err\u001b[38;5;241m.\u001b[39mvalue\n",
      "File \u001b[1;32m~\\anaconda3\\envs\\spyder\\Lib\\site-packages\\awkward\\operations\\ak_zip.py:145\u001b[0m, in \u001b[0;36mzip\u001b[1;34m(arrays, depth_limit, parameters, with_name, right_broadcast, optiontype_outside_record, highlevel, behavior)\u001b[0m\n\u001b[0;32m    142\u001b[0m     \u001b[38;5;28;01myield\u001b[39;00m arrays\n\u001b[0;32m    144\u001b[0m \u001b[38;5;66;03m# Implementation\u001b[39;00m\n\u001b[1;32m--> 145\u001b[0m \u001b[38;5;28;01mreturn\u001b[39;00m _impl(\n\u001b[0;32m    146\u001b[0m     arrays,\n\u001b[0;32m    147\u001b[0m     depth_limit,\n\u001b[0;32m    148\u001b[0m     parameters,\n\u001b[0;32m    149\u001b[0m     with_name,\n\u001b[0;32m    150\u001b[0m     right_broadcast,\n\u001b[0;32m    151\u001b[0m     optiontype_outside_record,\n\u001b[0;32m    152\u001b[0m     highlevel,\n\u001b[0;32m    153\u001b[0m     behavior,\n\u001b[0;32m    154\u001b[0m )\n",
      "File \u001b[1;32m~\\anaconda3\\envs\\spyder\\Lib\\site-packages\\awkward\\operations\\ak_zip.py:227\u001b[0m, in \u001b[0;36m_impl\u001b[1;34m(arrays, depth_limit, parameters, with_name, right_broadcast, optiontype_outside_record, highlevel, behavior)\u001b[0m\n\u001b[0;32m    224\u001b[0m     \u001b[38;5;28;01melse\u001b[39;00m:\n\u001b[0;32m    225\u001b[0m         \u001b[38;5;28;01mreturn\u001b[39;00m \u001b[38;5;28;01mNone\u001b[39;00m\n\u001b[1;32m--> 227\u001b[0m out \u001b[38;5;241m=\u001b[39m ak\u001b[38;5;241m.\u001b[39m_broadcasting\u001b[38;5;241m.\u001b[39mbroadcast_and_apply(\n\u001b[0;32m    228\u001b[0m     layouts, action, behavior, right_broadcast\u001b[38;5;241m=\u001b[39mright_broadcast\n\u001b[0;32m    229\u001b[0m )\n\u001b[0;32m    230\u001b[0m \u001b[38;5;28;01massert\u001b[39;00m \u001b[38;5;28misinstance\u001b[39m(out, \u001b[38;5;28mtuple\u001b[39m) \u001b[38;5;129;01mand\u001b[39;00m \u001b[38;5;28mlen\u001b[39m(out) \u001b[38;5;241m==\u001b[39m \u001b[38;5;241m1\u001b[39m\n\u001b[0;32m    231\u001b[0m out \u001b[38;5;241m=\u001b[39m out[\u001b[38;5;241m0\u001b[39m]\n",
      "File \u001b[1;32m~\\anaconda3\\envs\\spyder\\Lib\\site-packages\\awkward\\_broadcasting.py:1037\u001b[0m, in \u001b[0;36mbroadcast_and_apply\u001b[1;34m(inputs, action, behavior, depth_context, lateral_context, allow_records, left_broadcast, right_broadcast, numpy_to_regular, regular_to_jagged, function_name, broadcast_parameters_rule)\u001b[0m\n\u001b[0;32m   1035\u001b[0m backend \u001b[38;5;241m=\u001b[39m backend_of(\u001b[38;5;241m*\u001b[39minputs)\n\u001b[0;32m   1036\u001b[0m isscalar \u001b[38;5;241m=\u001b[39m []\n\u001b[1;32m-> 1037\u001b[0m out \u001b[38;5;241m=\u001b[39m apply_step(\n\u001b[0;32m   1038\u001b[0m     backend,\n\u001b[0;32m   1039\u001b[0m     broadcast_pack(inputs, isscalar),\n\u001b[0;32m   1040\u001b[0m     action,\n\u001b[0;32m   1041\u001b[0m     \u001b[38;5;241m0\u001b[39m,\n\u001b[0;32m   1042\u001b[0m     depth_context,\n\u001b[0;32m   1043\u001b[0m     lateral_context,\n\u001b[0;32m   1044\u001b[0m     behavior,\n\u001b[0;32m   1045\u001b[0m     {\n\u001b[0;32m   1046\u001b[0m         \u001b[38;5;124m\"\u001b[39m\u001b[38;5;124mallow_records\u001b[39m\u001b[38;5;124m\"\u001b[39m: allow_records,\n\u001b[0;32m   1047\u001b[0m         \u001b[38;5;124m\"\u001b[39m\u001b[38;5;124mleft_broadcast\u001b[39m\u001b[38;5;124m\"\u001b[39m: left_broadcast,\n\u001b[0;32m   1048\u001b[0m         \u001b[38;5;124m\"\u001b[39m\u001b[38;5;124mright_broadcast\u001b[39m\u001b[38;5;124m\"\u001b[39m: right_broadcast,\n\u001b[0;32m   1049\u001b[0m         \u001b[38;5;124m\"\u001b[39m\u001b[38;5;124mnumpy_to_regular\u001b[39m\u001b[38;5;124m\"\u001b[39m: numpy_to_regular,\n\u001b[0;32m   1050\u001b[0m         \u001b[38;5;124m\"\u001b[39m\u001b[38;5;124mregular_to_jagged\u001b[39m\u001b[38;5;124m\"\u001b[39m: regular_to_jagged,\n\u001b[0;32m   1051\u001b[0m         \u001b[38;5;124m\"\u001b[39m\u001b[38;5;124mfunction_name\u001b[39m\u001b[38;5;124m\"\u001b[39m: function_name,\n\u001b[0;32m   1052\u001b[0m         \u001b[38;5;124m\"\u001b[39m\u001b[38;5;124mbroadcast_parameters_rule\u001b[39m\u001b[38;5;124m\"\u001b[39m: broadcast_parameters_rule,\n\u001b[0;32m   1053\u001b[0m     },\n\u001b[0;32m   1054\u001b[0m )\n\u001b[0;32m   1055\u001b[0m \u001b[38;5;28;01massert\u001b[39;00m \u001b[38;5;28misinstance\u001b[39m(out, \u001b[38;5;28mtuple\u001b[39m)\n\u001b[0;32m   1056\u001b[0m \u001b[38;5;28;01mreturn\u001b[39;00m \u001b[38;5;28mtuple\u001b[39m(broadcast_unpack(x, isscalar) \u001b[38;5;28;01mfor\u001b[39;00m x \u001b[38;5;129;01min\u001b[39;00m out)\n",
      "File \u001b[1;32m~\\anaconda3\\envs\\spyder\\Lib\\site-packages\\awkward\\_broadcasting.py:1016\u001b[0m, in \u001b[0;36mapply_step\u001b[1;34m(backend, inputs, action, depth, depth_context, lateral_context, behavior, options)\u001b[0m\n\u001b[0;32m   1014\u001b[0m     \u001b[38;5;28;01mreturn\u001b[39;00m result\n\u001b[0;32m   1015\u001b[0m \u001b[38;5;28;01melif\u001b[39;00m result \u001b[38;5;129;01mis\u001b[39;00m \u001b[38;5;28;01mNone\u001b[39;00m:\n\u001b[1;32m-> 1016\u001b[0m     \u001b[38;5;28;01mreturn\u001b[39;00m continuation()\n\u001b[0;32m   1017\u001b[0m \u001b[38;5;28;01melse\u001b[39;00m:\n\u001b[0;32m   1018\u001b[0m     \u001b[38;5;28;01mraise\u001b[39;00m \u001b[38;5;167;01mAssertionError\u001b[39;00m(result)\n",
      "File \u001b[1;32m~\\anaconda3\\envs\\spyder\\Lib\\site-packages\\awkward\\_broadcasting.py:984\u001b[0m, in \u001b[0;36mapply_step.<locals>.continuation\u001b[1;34m()\u001b[0m\n\u001b[0;32m    982\u001b[0m \u001b[38;5;66;03m# Any non-string list-types?\u001b[39;00m\n\u001b[0;32m    983\u001b[0m \u001b[38;5;28;01melif\u001b[39;00m \u001b[38;5;28many\u001b[39m(x\u001b[38;5;241m.\u001b[39mis_list \u001b[38;5;129;01mand\u001b[39;00m \u001b[38;5;129;01mnot\u001b[39;00m is_string_like(x) \u001b[38;5;28;01mfor\u001b[39;00m x \u001b[38;5;129;01min\u001b[39;00m contents):\n\u001b[1;32m--> 984\u001b[0m     \u001b[38;5;28;01mreturn\u001b[39;00m broadcast_any_list()\n\u001b[0;32m    986\u001b[0m \u001b[38;5;66;03m# Any RecordArrays?\u001b[39;00m\n\u001b[0;32m    987\u001b[0m \u001b[38;5;28;01melif\u001b[39;00m \u001b[38;5;28many\u001b[39m(x\u001b[38;5;241m.\u001b[39mis_record \u001b[38;5;28;01mfor\u001b[39;00m x \u001b[38;5;129;01min\u001b[39;00m contents):\n",
      "File \u001b[1;32m~\\anaconda3\\envs\\spyder\\Lib\\site-packages\\awkward\\_broadcasting.py:632\u001b[0m, in \u001b[0;36mapply_step.<locals>.broadcast_any_list\u001b[1;34m()\u001b[0m\n\u001b[0;32m    629\u001b[0m         nextinputs\u001b[38;5;241m.\u001b[39mappend(x)\n\u001b[0;32m    630\u001b[0m         nextparameters\u001b[38;5;241m.\u001b[39mappend(NO_PARAMETERS)\n\u001b[1;32m--> 632\u001b[0m outcontent \u001b[38;5;241m=\u001b[39m apply_step(\n\u001b[0;32m    633\u001b[0m     backend,\n\u001b[0;32m    634\u001b[0m     nextinputs,\n\u001b[0;32m    635\u001b[0m     action,\n\u001b[0;32m    636\u001b[0m     depth \u001b[38;5;241m+\u001b[39m \u001b[38;5;241m1\u001b[39m,\n\u001b[0;32m    637\u001b[0m     copy\u001b[38;5;241m.\u001b[39mcopy(depth_context),\n\u001b[0;32m    638\u001b[0m     lateral_context,\n\u001b[0;32m    639\u001b[0m     behavior,\n\u001b[0;32m    640\u001b[0m     options,\n\u001b[0;32m    641\u001b[0m )\n\u001b[0;32m    642\u001b[0m \u001b[38;5;28;01massert\u001b[39;00m \u001b[38;5;28misinstance\u001b[39m(outcontent, \u001b[38;5;28mtuple\u001b[39m)\n\u001b[0;32m    643\u001b[0m parameters \u001b[38;5;241m=\u001b[39m parameters_factory(nextparameters, \u001b[38;5;28mlen\u001b[39m(outcontent))\n",
      "File \u001b[1;32m~\\anaconda3\\envs\\spyder\\Lib\\site-packages\\awkward\\_broadcasting.py:1016\u001b[0m, in \u001b[0;36mapply_step\u001b[1;34m(backend, inputs, action, depth, depth_context, lateral_context, behavior, options)\u001b[0m\n\u001b[0;32m   1014\u001b[0m     \u001b[38;5;28;01mreturn\u001b[39;00m result\n\u001b[0;32m   1015\u001b[0m \u001b[38;5;28;01melif\u001b[39;00m result \u001b[38;5;129;01mis\u001b[39;00m \u001b[38;5;28;01mNone\u001b[39;00m:\n\u001b[1;32m-> 1016\u001b[0m     \u001b[38;5;28;01mreturn\u001b[39;00m continuation()\n\u001b[0;32m   1017\u001b[0m \u001b[38;5;28;01melse\u001b[39;00m:\n\u001b[0;32m   1018\u001b[0m     \u001b[38;5;28;01mraise\u001b[39;00m \u001b[38;5;167;01mAssertionError\u001b[39;00m(result)\n",
      "File \u001b[1;32m~\\anaconda3\\envs\\spyder\\Lib\\site-packages\\awkward\\_broadcasting.py:984\u001b[0m, in \u001b[0;36mapply_step.<locals>.continuation\u001b[1;34m()\u001b[0m\n\u001b[0;32m    982\u001b[0m \u001b[38;5;66;03m# Any non-string list-types?\u001b[39;00m\n\u001b[0;32m    983\u001b[0m \u001b[38;5;28;01melif\u001b[39;00m \u001b[38;5;28many\u001b[39m(x\u001b[38;5;241m.\u001b[39mis_list \u001b[38;5;129;01mand\u001b[39;00m \u001b[38;5;129;01mnot\u001b[39;00m is_string_like(x) \u001b[38;5;28;01mfor\u001b[39;00m x \u001b[38;5;129;01min\u001b[39;00m contents):\n\u001b[1;32m--> 984\u001b[0m     \u001b[38;5;28;01mreturn\u001b[39;00m broadcast_any_list()\n\u001b[0;32m    986\u001b[0m \u001b[38;5;66;03m# Any RecordArrays?\u001b[39;00m\n\u001b[0;32m    987\u001b[0m \u001b[38;5;28;01melif\u001b[39;00m \u001b[38;5;28many\u001b[39m(x\u001b[38;5;241m.\u001b[39mis_record \u001b[38;5;28;01mfor\u001b[39;00m x \u001b[38;5;129;01min\u001b[39;00m contents):\n",
      "File \u001b[1;32m~\\anaconda3\\envs\\spyder\\Lib\\site-packages\\awkward\\_broadcasting.py:682\u001b[0m, in \u001b[0;36mapply_step.<locals>.broadcast_any_list\u001b[1;34m()\u001b[0m\n\u001b[0;32m    680\u001b[0m \u001b[38;5;28;01mfor\u001b[39;00m x, x_is_string \u001b[38;5;129;01min\u001b[39;00m \u001b[38;5;28mzip\u001b[39m(inputs, input_is_string):\n\u001b[0;32m    681\u001b[0m     \u001b[38;5;28;01mif\u001b[39;00m \u001b[38;5;28misinstance\u001b[39m(x, listtypes) \u001b[38;5;129;01mand\u001b[39;00m \u001b[38;5;129;01mnot\u001b[39;00m x_is_string:\n\u001b[1;32m--> 682\u001b[0m         next_content \u001b[38;5;241m=\u001b[39m broadcast_to_offsets_avoiding_carry(x, offsets)\n\u001b[0;32m    683\u001b[0m         nextinputs\u001b[38;5;241m.\u001b[39mappend(next_content)\n\u001b[0;32m    684\u001b[0m         nextparameters\u001b[38;5;241m.\u001b[39mappend(x\u001b[38;5;241m.\u001b[39m_parameters)\n",
      "File \u001b[1;32m~\\anaconda3\\envs\\spyder\\Lib\\site-packages\\awkward\\_broadcasting.py:376\u001b[0m, in \u001b[0;36mbroadcast_to_offsets_avoiding_carry\u001b[1;34m(list_content, offsets)\u001b[0m\n\u001b[0;32m    374\u001b[0m         \u001b[38;5;28;01mreturn\u001b[39;00m list_content\u001b[38;5;241m.\u001b[39mcontent[:next_length]\n\u001b[0;32m    375\u001b[0m     \u001b[38;5;28;01melse\u001b[39;00m:\n\u001b[1;32m--> 376\u001b[0m         \u001b[38;5;28;01mreturn\u001b[39;00m list_content\u001b[38;5;241m.\u001b[39m_broadcast_tooffsets64(offsets)\u001b[38;5;241m.\u001b[39mcontent\n\u001b[0;32m    377\u001b[0m \u001b[38;5;28;01melif\u001b[39;00m \u001b[38;5;28misinstance\u001b[39m(list_content, ListArray):\n\u001b[0;32m    378\u001b[0m     \u001b[38;5;66;03m# Is this list contiguous?\u001b[39;00m\n\u001b[0;32m    379\u001b[0m     \u001b[38;5;28;01mif\u001b[39;00m index_nplike\u001b[38;5;241m.\u001b[39marray_equal(\n\u001b[0;32m    380\u001b[0m         list_content\u001b[38;5;241m.\u001b[39mstarts\u001b[38;5;241m.\u001b[39mdata[\u001b[38;5;241m1\u001b[39m:], list_content\u001b[38;5;241m.\u001b[39mstops\u001b[38;5;241m.\u001b[39mdata[:\u001b[38;5;241m-\u001b[39m\u001b[38;5;241m1\u001b[39m]\n\u001b[0;32m    381\u001b[0m     ):\n\u001b[0;32m    382\u001b[0m         \u001b[38;5;66;03m# Does this list match the offsets?\u001b[39;00m\n",
      "File \u001b[1;32m~\\anaconda3\\envs\\spyder\\Lib\\site-packages\\awkward\\contents\\listoffsetarray.py:400\u001b[0m, in \u001b[0;36mListOffsetArray._broadcast_tooffsets64\u001b[1;34m(self, offsets)\u001b[0m\n\u001b[0;32m    395\u001b[0m     next_content \u001b[38;5;241m=\u001b[39m \u001b[38;5;28mself\u001b[39m\u001b[38;5;241m.\u001b[39m_content[this_start:]\n\u001b[0;32m    397\u001b[0m \u001b[38;5;28;01mif\u001b[39;00m index_nplike\u001b[38;5;241m.\u001b[39mknown_data \u001b[38;5;129;01mand\u001b[39;00m \u001b[38;5;129;01mnot\u001b[39;00m index_nplike\u001b[38;5;241m.\u001b[39marray_equal(\n\u001b[0;32m    398\u001b[0m     this_zero_offsets, offsets\n\u001b[0;32m    399\u001b[0m ):\n\u001b[1;32m--> 400\u001b[0m     \u001b[38;5;28;01mraise\u001b[39;00m \u001b[38;5;167;01mValueError\u001b[39;00m(\u001b[38;5;124m\"\u001b[39m\u001b[38;5;124mcannot broadcast nested list\u001b[39m\u001b[38;5;124m\"\u001b[39m)\n\u001b[0;32m    402\u001b[0m \u001b[38;5;28;01mreturn\u001b[39;00m ListOffsetArray(\n\u001b[0;32m    403\u001b[0m     offsets, next_content[: offsets[\u001b[38;5;241m-\u001b[39m\u001b[38;5;241m1\u001b[39m]], parameters\u001b[38;5;241m=\u001b[39m\u001b[38;5;28mself\u001b[39m\u001b[38;5;241m.\u001b[39m_parameters\n\u001b[0;32m    404\u001b[0m )\n",
      "\u001b[1;31mValueError\u001b[0m: cannot broadcast nested list"
     ]
    }
   ],
   "source": [
    "llppos = ak.Array([[1.59, 142, 83.1],\n",
    " [-21.3, 78.4, 60.3]])\n",
    "llpp4 = ak.Array([[1.16, 0.00573, 0.512, 0.3],\n",
    " [1.41, -0.209, 0.772, 0.594]])\n",
    "ak.cartesian([llppos,llpp4])\n",
    "alldata = ak.zip({'llppos':llppos,'llpp4':llpp4})"
   ]
  },
  {
   "cell_type": "code",
   "execution_count": 54,
   "id": "548b4257-5404-4e69-99f7-033c48324228",
   "metadata": {},
   "outputs": [
    {
     "data": {
      "text/html": [
       "<pre>[[1.59, 142, 83.1],\n",
       " [-21.3, 78.4, 60.3]]\n",
       "-----------------------\n",
       "type: 2 * var * float64</pre>"
      ],
      "text/plain": [
       "<Array [[1.59, 142, 83.1], [-21.3, ..., 60.3]] type='2 * var * float64'>"
      ]
     },
     "execution_count": 54,
     "metadata": {},
     "output_type": "execute_result"
    }
   ],
   "source": [
    "alldata[\"llppos\"]"
   ]
  },
  {
   "cell_type": "code",
   "execution_count": 14,
   "id": "b33b775c-bb2b-465a-91a9-af7c398a53b0",
   "metadata": {},
   "outputs": [
    {
     "name": "stdout",
     "output_type": "stream",
     "text": [
      "File contains vertex events from a simulation run \n",
      "The first key in data will be the event number. \n",
      "Each event has keys:\n",
      "0 -> Position, 1 -> LLP Momentum, 2 -> Daughter Particles, 3 -> Vertex Reconstruction, 4 -> Wall Hit Information\n"
     ]
    }
   ],
   "source": [
    "print(data_in['Header'])"
   ]
  },
  {
   "cell_type": "code",
   "execution_count": 15,
   "id": "82a35c4d-e091-4eb5-a940-ae55d749af0c",
   "metadata": {},
   "outputs": [
    {
     "data": {
      "text/html": [
       "<pre>[[[48.4, 139, 61], ..., {LLP_DECAY: True, LLP_DETECTOR: True, DECAY: ..., ...}],\n",
       " [[-22.7, 70.5, 80.7], [...], ..., {LLP_DECAY: True, LLP_DETECTOR: True, ...}],\n",
       " [[10.2, 122, 70.4], [...], ..., {LLP_DECAY: True, LLP_DETECTOR: True, ...}],\n",
       " [[-16.8, 76.8, 83], [...], ..., {LLP_DECAY: True, LLP_DETECTOR: True, ...}],\n",
       " [[25.8, 96.1, 73.4], [...], ..., {LLP_DECAY: True, LLP_DETECTOR: True, ...}],\n",
       " [[29.1, 84.4, 74.6], [...], ..., {LLP_DECAY: True, LLP_DETECTOR: True, ...}],\n",
       " [[-44.7, 106, 67.7], [...], ..., {LLP_DECAY: True, LLP_DETECTOR: True, ...}],\n",
       " [[-29, 84.7, 66.6], [...], ..., {LLP_DECAY: True, LLP_DETECTOR: True, ...}],\n",
       " [[-16, 72.2, 82.7], [...], ..., {LLP_DECAY: True, LLP_DETECTOR: True, ...}],\n",
       " [[-49.5, 71.4, 60.8], [...], ..., {LLP_DECAY: True, LLP_DETECTOR: True, ...}]]\n",
       "--------------------------------------------------------------------------------\n",
       "type: 10 * var * union[\n",
       "    var * union[\n",
       "        float64,\n",
       "        var * union[\n",
       "            var * float64,\n",
       "            int64\n",
       "        ],\n",
       "        string\n",
       "    ],\n",
       "    {\n",
       "        LLP_DECAY: bool,\n",
       "        LLP_DETECTOR: bool,\n",
       "        DECAY: bool,\n",
       "        DETECTOR: bool\n",
       "    }\n",
       "]</pre>"
      ],
      "text/plain": [
       "<Array [[[48.4, 139, 61], ..., {...}], ...] type='10 * var * union[var * un...'>"
      ]
     },
     "execution_count": 15,
     "metadata": {},
     "output_type": "execute_result"
    }
   ],
   "source": [
    "data_in['Data']"
   ]
  },
  {
   "cell_type": "code",
   "execution_count": null,
   "id": "41311bc5-e12c-4425-9e0d-46151961e945",
   "metadata": {},
   "outputs": [],
   "source": []
  }
 ],
 "metadata": {
  "kernelspec": {
   "display_name": "Python 3 (ipykernel)",
   "language": "python",
   "name": "python3"
  },
  "language_info": {
   "codemirror_mode": {
    "name": "ipython",
    "version": 3
   },
   "file_extension": ".py",
   "mimetype": "text/x-python",
   "name": "python",
   "nbconvert_exporter": "python",
   "pygments_lexer": "ipython3",
   "version": "3.11.3"
  }
 },
 "nbformat": 4,
 "nbformat_minor": 5
}

{
 "cells": [
  {
   "cell_type": "code",
   "execution_count": 14,
   "id": "cfdce3b8-bf4d-4588-a58f-46aef61762e5",
   "metadata": {},
   "outputs": [],
   "source": [
    "import sys\n",
    "import os\n",
    "from os.path import join\n",
    "from tqdm.notebook import tqdm\n",
    "import numba\n",
    "\n",
    "import numpy as np\n",
    "import awkward as ak\n",
    "\n",
    "sys.path.insert(0, '../MATHUSLA_FastSim/')\n",
    "import DetectorSimulation.Detector as Detector\n",
    "import DetectorSimulation.Particle as Particle\n",
    "import DetectorSimulation.Vertex as Vertex\n",
    "import DetectorSimulation.lorentz_transformation as lt\n",
    "import DetectorSimulation.llp_gun as llp_gun\n",
    "## depending on which fvs are used load a different specialized llp gun (llp_gun_new) (built on top of llp_gun)\n",
    "import DetectorSimulation.llp_gun_new as lg\n",
    "from Helpers.functions import *\n",
    "\n",
    "sys.path.insert(0,'../FastSim_Additions/')\n",
    "from Additions import initiate_detector"
   ]
  },
  {
   "cell_type": "code",
   "execution_count": 15,
   "id": "fa537720-32ee-47ea-8444-81a4dba0b675",
   "metadata": {},
   "outputs": [],
   "source": [
    "fv_path = join(os.getcwd(), \"../SimulationData/RHN_Utau_LLPweight4vectorBmesonlist_mN_0.1.csv\")\n",
    "vectors = read_vectors(fv_path, 50)"
   ]
  },
  {
   "cell_type": "code",
   "execution_count": 16,
   "id": "bfd0c252-27d2-42c2-aac4-cc45130149dc",
   "metadata": {},
   "outputs": [],
   "source": [
    "detector_benchmark = initiate_detector()\n",
    "phi_min, phi_max, theta_min, theta_max = get_detector_angles(detector_benchmark)"
   ]
  },
  {
   "cell_type": "code",
   "execution_count": 22,
   "id": "1cf00d91-1bce-4862-8dda-3afae282db86",
   "metadata": {},
   "outputs": [],
   "source": [
    "def get_decay_products():\n",
    "    products = [[13,13], [11,11], [11,13], [11,12,13], [12,12,13]]\n",
    "    index = np.random.randint(0, len(products))\n",
    "    return products[index]"
   ]
  },
  {
   "cell_type": "code",
   "execution_count": 39,
   "id": "2a3bc08c-3857-4f8e-883e-7ce338ec4fd6",
   "metadata": {},
   "outputs": [
    {
     "data": {
      "application/vnd.jupyter.widget-view+json": {
       "model_id": "2d867ea976e64fcbb2a3b25235066c4f",
       "version_major": 2,
       "version_minor": 0
      },
      "text/plain": [
       "  0%|          | 0/50 [00:00<?, ?it/s]"
      ]
     },
     "metadata": {},
     "output_type": "display_data"
    },
    {
     "name": "stdout",
     "output_type": "stream",
     "text": [
      "Vertex position: [-27.00764889 128.83419059  71.95145131], momentum: [ 2.5900429  -0.43013488  2.05186611  1.1459283 ]\n",
      "Final state particles: \n",
      "Particle PID: 11, position: [-27.00764889 128.83419059  71.95145131], momentum: [ 1.34924022 -0.10508059  1.33177484  0.18916328], visible\n",
      "  Hits at: \n",
      "  \tNone\n",
      "  Passed reconstruction criteria: []\n",
      "         triggering criteria: []\n",
      "  Wall hits: {'DECAY': True, 'DETECTOR': True}\n",
      "  \tDecay: {'x-': [False, None], 'x+': [False, None], 'y-': [False, None], 'y+': [True, [-30.255741115123584, 170.0, 77.79858046436344]], 'z-': [False, None], 'z+': [False, None]}\n",
      "  \tDetector: {'x-': [False, None], 'x+': [False, None], 'y-': [False, None], 'y+': [True, [-30.255741115123584, 170.0, 77.79858046436344]], 'z-': [False, None], 'z+': [False, None]}\n",
      ";\n",
      "Particle PID: 11, position: [-27.00764889 128.83419059  71.95145131], momentum: [ 1.24080267 -0.32505429  0.72009126  0.95676502], visible\n",
      "  Hits at: \n",
      "  \t[-29.74208761 134.89177998  80.        ], module (-30.0, 130.0, 80.0), hit layer z, long direction 2\n",
      "\t[-31.440803  138.6549363  85.       ], module (-40.0, 130.0, 85.0), hit layer z, long direction 2\n",
      "\t[-32.2561864  140.46125134  87.4       ], module (-40.0, 140.0, 87.4), hit layer z, long direction 1\n",
      "\t[-32.52798086 141.06335635  88.2       ], module (-40.0, 140.0, 88.2), hit layer z, long direction 2\n",
      "\t[-32.79977532 141.66546136  89.        ], module (-40.0, 140.0, 89.0), hit layer z, long direction 1\n",
      "  Passed reconstruction criteria: ['medium', 'tight', 'loose', 'medium', 'tight', 'loose']\n",
      "         triggering criteria: []\n",
      "  Wall hits: {'DECAY': True, 'DETECTOR': True}\n",
      "  \tDecay: {'x-': [False, None], 'x+': [False, None], 'y-': [False, None], 'y+': [False, None], 'z-': [False, None], 'z+': [True, [-31.44080300424305, 138.6549363004443, 85.0]]}\n",
      "  \tDetector: {'x-': [False, None], 'x+': [False, None], 'y-': [False, None], 'y+': [False, None], 'z-': [False, None], 'z+': [True, [-32.799775322821276, 141.66546136073052, 89.0]]}\n",
      ";\n",
      "Passed vertex reconstruction criteria: []\n",
      "Wall hits: {'LLP_DECAY': True, 'LLP_DETECTOR': True, 'DECAY': True, 'DETECTOR': True}\n",
      ";\n",
      "\n",
      "\n"
     ]
    }
   ],
   "source": [
    "ctau = 100\n",
    "mass = 1\n",
    "\n",
    "for k in tqdm(range(len(vectors))):\n",
    "    \n",
    "    llp_4p = vectors[k][1:]\n",
    "    llp_theta = get_theta(llp_4p[1:])\n",
    "    \n",
    "    if (llp_theta < theta_max) and (llp_theta > theta_min):\n",
    "        detector_benchmark.clear_detector()\n",
    "        \n",
    "        rotated_llp_4p = deal_with_phi(llp_4p, phi_min, phi_max)\n",
    "        pack = get_weight(rotated_llp_4p, mass, ctau, detector_benchmark)\n",
    "        \n",
    "        if pack is not None:\n",
    "            p_decay, p_pos, boost = pack\n",
    "            \n",
    "            decay_products = get_decay_products()\n",
    "            if len(decay_products) == 2:\n",
    "                llp_vertex = lg.get_llp('leptonic2body', mass, p_pos, boost, decay_products)\n",
    "            else:\n",
    "                llp_vertex = lg.get_llp('leptonic3body', mass, p_pos, boost, decay_products)\n",
    "                \n",
    "            if llp_vertex is not None:\n",
    "                detector_benchmark.new_vertex_event(llp_vertex)\n",
    "                \n",
    "                print(detector_benchmark.return_current_vertex())\n",
    "                break"
   ]
  },
  {
   "cell_type": "code",
   "execution_count": 40,
   "id": "449759fa-d811-4be5-957a-47d3fad8e652",
   "metadata": {},
   "outputs": [],
   "source": [
    "for_study = detector_benchmark.return_current_vertex()"
   ]
  },
  {
   "cell_type": "code",
   "execution_count": 42,
   "id": "87a329d7-fc13-461d-99e0-c8178ba027ef",
   "metadata": {},
   "outputs": [
    {
     "data": {
      "text/plain": [
       "array([ 2.5900429 , -0.43013488,  2.05186611,  1.1459283 ])"
      ]
     },
     "execution_count": 42,
     "metadata": {},
     "output_type": "execute_result"
    }
   ],
   "source": [
    "for_study.vertex.momentum"
   ]
  },
  {
   "cell_type": "code",
   "execution_count": 49,
   "id": "c023e590-e1c1-4325-9f25-db3ba5b2c687",
   "metadata": {},
   "outputs": [
    {
     "data": {
      "text/plain": [
       "[<DetectorSimulation.Detector.TrackerHit at 0x1abe2845910>,\n",
       " <DetectorSimulation.Detector.TrackerHit at 0x1abe2845990>,\n",
       " <DetectorSimulation.Detector.TrackerHit at 0x1abe2845a10>,\n",
       " <DetectorSimulation.Detector.TrackerHit at 0x1abe2845a90>,\n",
       " <DetectorSimulation.Detector.TrackerHit at 0x1abe2845b10>]"
      ]
     },
     "execution_count": 49,
     "metadata": {},
     "output_type": "execute_result"
    }
   ],
   "source": [
    "for_study.particles[1].tracker_hits"
   ]
  },
  {
   "cell_type": "code",
   "execution_count": null,
   "id": "352b1174-992e-4cb2-8ee7-0438ac02eb4d",
   "metadata": {},
   "outputs": [],
   "source": []
  },
  {
   "cell_type": "code",
   "execution_count": 52,
   "id": "5daf8c38-3dad-4dcc-94c1-7bd3065eb821",
   "metadata": {},
   "outputs": [
    {
     "name": "stdout",
     "output_type": "stream",
     "text": [
      "11\n",
      "[ 1.34924022 -0.10508059  1.33177484  0.18916328]\n",
      "0\n",
      "11\n",
      "[ 1.24080267 -0.32505429  0.72009126  0.95676502]\n",
      "5\n"
     ]
    }
   ],
   "source": [
    "daughters = []\n",
    "\n",
    "for daughter in for_study.particles:\n",
    "    print(daughter.particle.pid)\n",
    "    print(daughter.particle.momentum)\n",
    "    print(len(daughter.tracker_hits))\n",
    "    info = ak.Array([np.array([daughter.particle.pid]),\n",
    "              daughter.particle.momentum,\n",
    "              np.array([len(daughter.tracker_hits)])])\n",
    "    daughters.append(info)"
   ]
  },
  {
   "cell_type": "code",
   "execution_count": 53,
   "id": "0a48e6f2-4f37-4c88-be16-e4473d8d76cd",
   "metadata": {},
   "outputs": [
    {
     "data": {
      "text/plain": [
       "[<Array [[11], [1.35, -0.105, ..., 0.189], [0]] type='3 * var * float64'>,\n",
       " <Array [[11], [1.24, -0.325, ..., 0.957], [5]] type='3 * var * float64'>]"
      ]
     },
     "execution_count": 53,
     "metadata": {},
     "output_type": "execute_result"
    }
   ],
   "source": [
    "daughters"
   ]
  },
  {
   "cell_type": "code",
   "execution_count": null,
   "id": "ae20f705-0cf9-403c-a77e-f61916800dea",
   "metadata": {},
   "outputs": [],
   "source": [
    "proposed_struct = ak.Array([for_study.vertex.position,\n",
    "                            for_study.vertex.momentum,\n",
    "                            "
   ]
  }
 ],
 "metadata": {
  "kernelspec": {
   "display_name": "Python 3 (ipykernel)",
   "language": "python",
   "name": "python3"
  },
  "language_info": {
   "codemirror_mode": {
    "name": "ipython",
    "version": 3
   },
   "file_extension": ".py",
   "mimetype": "text/x-python",
   "name": "python",
   "nbconvert_exporter": "python",
   "pygments_lexer": "ipython3",
   "version": "3.11.3"
  }
 },
 "nbformat": 4,
 "nbformat_minor": 5
}

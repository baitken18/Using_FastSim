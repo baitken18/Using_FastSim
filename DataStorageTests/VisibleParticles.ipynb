{
 "cells": [
  {
   "cell_type": "code",
   "execution_count": 4,
   "id": "9652497b-5090-41f7-97da-58e62f3e9705",
   "metadata": {},
   "outputs": [],
   "source": [
    "import sys\n",
    "import os\n",
    "from os.path import join\n",
    "from tqdm.notebook import tqdm\n",
    "import numba\n",
    "\n",
    "import numpy as np\n",
    "import awkward as ak\n",
    "\n",
    "sys.path.insert(0, '../../MATHUSLA_FastSim/')\n",
    "import DetectorSimulation.Detector as Detector\n",
    "import DetectorSimulation.Particle as Particle\n",
    "import DetectorSimulation.Vertex as Vertex\n",
    "import DetectorSimulation.lorentz_transformation as lt\n",
    "import DetectorSimulation.llp_gun as llp_gun\n",
    "## depending on which fvs are used load a different specialized llp gun (llp_gun_new) (built on top of llp_gun)\n",
    "import DetectorSimulation.llp_gun_new as lg\n",
    "from Helpers.functions import *\n",
    "\n",
    "sys.path.insert(0,'../../FastSim_Additions/')\n",
    "from Additions import initiate_detector, time_process\n",
    "import Event_Data_Structure as eds\n",
    "from run_simulation import do_sim\n",
    "\n",
    "sys.path.insert(0, '../MixingAnglePlots/')\n",
    "from MixingAngle_vs_Yield_Plot import get_ctaus"
   ]
  },
  {
   "cell_type": "code",
   "execution_count": 5,
   "id": "28ba7ebe-fa45-4e7e-95cf-d2508a16b3ee",
   "metadata": {},
   "outputs": [],
   "source": [
    "fv_file = '../../SimulationData/ForMixingPlot/RHN_Ue_LLPweight4vectorBmesonlist_mN_0.316228.csv'\n",
    "fv_path = os.path.join(os.getcwd(), fv_file)\n",
    "length_file = '../../SimulationData/RHNctauUe.dat'\n",
    "len_path = os.path.join(os.getcwd(), length_file)\n",
    "product_file = '../../SimulationData/vN_to_all_0.314228_hadron_style.txt'\n",
    "prod_path = os.path.join(os.getcwd(), product_file)"
   ]
  },
  {
   "cell_type": "code",
   "execution_count": 6,
   "id": "3a5f31c2-5b11-436c-b8dd-ade0e9ddcb38",
   "metadata": {},
   "outputs": [],
   "source": [
    "mass = float(fv_file.split('_')[-1][:-4])\n",
    "mixing = 0.004\n",
    "ctau = get_ctaus(mass = mass, mixing = mixing,length_file = len_path)\n",
    "detector_benchmark = initiate_detector('../../MATHUSLA_FastSim/param_card_CDR.txt')"
   ]
  },
  {
   "cell_type": "code",
   "execution_count": 7,
   "id": "cfa67dd9-eb3e-42ad-b523-ece0f73ea8da",
   "metadata": {},
   "outputs": [
    {
     "name": "stdout",
     "output_type": "stream",
     "text": [
      "do_sim: Runtime 11.028642200049944 s\n"
     ]
    }
   ],
   "source": [
    "vertices = time_process(do_sim, [fv_path, prod_path, ctau, mass, detector_benchmark, 10000])"
   ]
  },
  {
   "cell_type": "code",
   "execution_count": 25,
   "id": "68a26a97-f8ce-4312-b7b9-8bbb5871be75",
   "metadata": {},
   "outputs": [],
   "source": [
    "test = vertices[1]"
   ]
  },
  {
   "cell_type": "code",
   "execution_count": 49,
   "id": "6816ba62-f7ff-4642-a809-739e1b853869",
   "metadata": {},
   "outputs": [
    {
     "data": {
      "text/plain": [
       "1"
      ]
     },
     "execution_count": 49,
     "metadata": {},
     "output_type": "execute_result"
    }
   ],
   "source": [
    "test.particles[0]._visibility"
   ]
  },
  {
   "cell_type": "code",
   "execution_count": null,
   "id": "5ba0e02f-1c41-4154-a023-f12a76355eb0",
   "metadata": {},
   "outputs": [],
   "source": []
  }
 ],
 "metadata": {
  "kernelspec": {
   "display_name": "Python 3 (ipykernel)",
   "language": "python",
   "name": "python3"
  },
  "language_info": {
   "codemirror_mode": {
    "name": "ipython",
    "version": 3
   },
   "file_extension": ".py",
   "mimetype": "text/x-python",
   "name": "python",
   "nbconvert_exporter": "python",
   "pygments_lexer": "ipython3",
   "version": "3.11.3"
  }
 },
 "nbformat": 4,
 "nbformat_minor": 5
}

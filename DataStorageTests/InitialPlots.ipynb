{
 "cells": [
  {
   "cell_type": "code",
   "execution_count": 1,
   "id": "a518429f-78e1-4ef3-87df-730213c0b54e",
   "metadata": {},
   "outputs": [],
   "source": [
    "import sys \n",
    "import os\n",
    "\n",
    "import numpy as np\n",
    "import matplotlib.pyplot as plt\n",
    "import timeit\n",
    "\n",
    "sys.path.insert(0, '../../MATHUSLA_FastSim/')\n",
    "import DetectorSimulation.Detector as Detector\n",
    "import DetectorSimulation.llp_gun_new as lg\n",
    "from Helpers.functions import *\n",
    "\n",
    "sys.path.insert(0,'../../FastSim_Additions/')\n",
    "from Additions import initiate_detector\n",
    "from run_simulation import do_sim\n",
    "import Event_Data_Structure as eds\n",
    "\n",
    "sys.path.insert(0, '../MixingAnglePlots/')\n",
    "from MixingAngle_vs_Yield_Plot import get_ctaus"
   ]
  },
  {
   "cell_type": "code",
   "execution_count": 2,
   "id": "ad8df4d7-cb86-4610-8e5a-25f96bac2e95",
   "metadata": {},
   "outputs": [],
   "source": [
    "fv_file = '../../SimulationData/ForMixingPlot/RHN_Ue_LLPweight4vectorBmesonlist_mN_0.316228.csv'\n",
    "fv_path = os.path.join(os.getcwd(), fv_file)\n",
    "length_file = '../../SimulationData/RHNctauUe.dat'\n",
    "len_path = os.path.join(os.getcwd(), length_file)\n",
    "product_file = '../../SimulationData/vN_to_all_0.314228_new.txt'\n",
    "prod_path = os.path.join(os.getcwd(), product_file)"
   ]
  },
  {
   "cell_type": "code",
   "execution_count": 3,
   "id": "7dc213ac-ab5b-4684-962d-3207556a5ee8",
   "metadata": {},
   "outputs": [],
   "source": [
    "mass = float(fv_file.split('_')[-1][:-4])\n",
    "mixing = 0.004\n",
    "ctau = get_ctaus(mass = mass, mixing = mixing,length_file = len_path)"
   ]
  },
  {
   "cell_type": "code",
   "execution_count": 4,
   "id": "92ec1d8f-50ec-487d-b8d2-cffb41ec032a",
   "metadata": {},
   "outputs": [],
   "source": [
    "detector_benchmark = initiate_detector('../../MATHUSLA_FastSim/param_card_CDR.txt')"
   ]
  },
  {
   "cell_type": "code",
   "execution_count": 5,
   "id": "f50dd466-3315-47c4-a6bf-d2dc157c6b8f",
   "metadata": {},
   "outputs": [
    {
     "name": "stderr",
     "output_type": "stream",
     "text": [
      "C:\\Users\\baitk\\Documents\\5thYear\\Phys499\\Using_FastSim\\DataStorageTests\\../../MATHUSLA_FastSim\\Helpers\\functions.py:184: RuntimeWarning: divide by zero encountered in log\n",
      "  exp = -b*ctau*np.log(1-unif) # use pdf inversion to get exponential distribution\n",
      "C:\\Users\\baitk\\anaconda3\\envs\\spyder\\Lib\\site-packages\\numpy\\core\\numeric.py:1665: RuntimeWarning: invalid value encountered in multiply\n",
      "  multiply(a1, b2, out=cp0)\n",
      "C:\\Users\\baitk\\anaconda3\\envs\\spyder\\Lib\\site-packages\\numpy\\core\\numeric.py:1666: RuntimeWarning: invalid value encountered in multiply\n",
      "  tmp = array(a2 * b1)\n",
      "C:\\Users\\baitk\\anaconda3\\envs\\spyder\\Lib\\site-packages\\numpy\\core\\numeric.py:1668: RuntimeWarning: invalid value encountered in multiply\n",
      "  multiply(a2, b0, out=cp1)\n",
      "C:\\Users\\baitk\\anaconda3\\envs\\spyder\\Lib\\site-packages\\numpy\\core\\numeric.py:1669: RuntimeWarning: invalid value encountered in multiply\n",
      "  multiply(a0, b2, out=tmp)\n",
      "C:\\Users\\baitk\\anaconda3\\envs\\spyder\\Lib\\site-packages\\numpy\\core\\numeric.py:1671: RuntimeWarning: invalid value encountered in multiply\n",
      "  multiply(a0, b1, out=cp2)\n",
      "C:\\Users\\baitk\\anaconda3\\envs\\spyder\\Lib\\site-packages\\numpy\\core\\numeric.py:1672: RuntimeWarning: invalid value encountered in multiply\n",
      "  multiply(a1, b0, out=tmp)\n",
      "C:\\Users\\baitk\\Documents\\5thYear\\Phys499\\Using_FastSim\\DataStorageTests\\../../MATHUSLA_FastSim\\DetectorSimulation\\Vertex.py:74: RuntimeWarning: invalid value encountered in divide\n",
      "  unit_direction = direction_arr/np.linalg.norm(direction_arr)\n"
     ]
    },
    {
     "name": "stdout",
     "output_type": "stream",
     "text": [
      "26.304300700023305\n"
     ]
    }
   ],
   "source": [
    "start = timeit.default_timer()\n",
    "\n",
    "vertices = do_sim(fv_path, prod_path, ctau, mass, detector_benchmark, 20000)\n",
    "\n",
    "end = timeit.default_timer()\n",
    "\n",
    "print(end - start)"
   ]
  },
  {
   "cell_type": "code",
   "execution_count": 6,
   "id": "dbd447ac-229e-4520-ba68-19d59f38b16f",
   "metadata": {},
   "outputs": [
    {
     "name": "stdout",
     "output_type": "stream",
     "text": [
      "0.7785122999921441\n"
     ]
    }
   ],
   "source": [
    "start = timeit.default_timer()\n",
    "data = eds.to_data_structure(vertices)\n",
    "eds.data_to_pickle(data, 'Conservation_Data.pickle')\n",
    "end = timeit.default_timer()\n",
    "print(end - start)"
   ]
  },
  {
   "cell_type": "code",
   "execution_count": 7,
   "id": "c46f9b99-21bd-4f89-9ecf-d626e68f9044",
   "metadata": {},
   "outputs": [
    {
     "name": "stdout",
     "output_type": "stream",
     "text": [
      "(4146, 4)\n"
     ]
    }
   ],
   "source": [
    "print(data['momentum'].shape)\n",
    "momentum_before = data['momentum']"
   ]
  },
  {
   "cell_type": "code",
   "execution_count": 8,
   "id": "da3f8a4f-dfb7-4db3-a2b9-f205a2794083",
   "metadata": {},
   "outputs": [],
   "source": [
    "import awkward as ak"
   ]
  },
  {
   "cell_type": "code",
   "execution_count": 9,
   "id": "f0a2f3cd-2aea-4a39-9f24-a3245cb3e6a9",
   "metadata": {},
   "outputs": [],
   "source": [
    "momentum_after = ak.sum(data['daughters'][:,:,:4], axis = 1).to_numpy()"
   ]
  },
  {
   "cell_type": "code",
   "execution_count": 21,
   "id": "174ae411-c8a2-4df5-ba1d-c69a0cc36409",
   "metadata": {},
   "outputs": [
    {
     "data": {
      "text/plain": [
       "(4, 4146)"
      ]
     },
     "execution_count": 21,
     "metadata": {},
     "output_type": "execute_result"
    }
   ],
   "source": [
    "(momentum_before - momentum_after).T.shape"
   ]
  },
  {
   "cell_type": "code",
   "execution_count": 24,
   "id": "9d9bc729-51ac-4693-b843-c1015b42caae",
   "metadata": {},
   "outputs": [
    {
     "data": {
      "image/png": "[encoded data removed]",
      "text/plain": [
       "<Figure size 640x480 with 1 Axes>"
      ]
     },
     "metadata": {},
     "output_type": "display_data"
    }
   ],
   "source": [
    "key = [r'$E$', r'$p_x$', r'$p_y$', r'$p_z$']\n",
    "\n",
    "for i,conservation in enumerate(zip(momentum_before.T, momentum_after.T)):\n",
    "    difference = conservation[0] - conservation[1]\n",
    "    bins = np.arange(-1,1, 0.05)\n",
    "    plt.hist(difference, bins = bins, histtype = 'step', label = key[i])\n",
    "\n",
    "plt.title('Conservation of 4-Momentum')\n",
    "plt.xlabel(r'$p^{\\mu}_{intial} - p^{\\mu}_{final}$')\n",
    "plt.ylabel('Counts')\n",
    "plt.yscale('log')\n",
    "plt.legend()\n",
    "plt.grid()"
   ]
  },
  {
   "cell_type": "code",
   "execution_count": 12,
   "id": "d03842e6-7a27-4de2-bcae-9be7722ffef6",
   "metadata": {},
   "outputs": [
    {
     "name": "stdout",
     "output_type": "stream",
     "text": [
      "[[ 38.47115204 -13.98715666  24.22730109  26.40694737]]\n"
     ]
    },
    {
     "data": {
      "text/plain": [
       "array([[-13.98715666,   5.36015082,  -8.73663174,  -9.52263621]])"
      ]
     },
     "execution_count": 12,
     "metadata": {},
     "output_type": "execute_result"
    }
   ],
   "source": [
    "print(momentum_before[np.where(difference == max(difference))])\n",
    "momentum_after[np.where(difference == max(difference))]"
   ]
  },
  {
   "cell_type": "code",
   "execution_count": 17,
   "id": "ea04cff0-917b-46eb-88dc-8b98824ea7a1",
   "metadata": {},
   "outputs": [
    {
     "data": {
      "image/png": "[encoded data removed]",
      "text/plain": [
       "<Figure size 640x480 with 1 Axes>"
      ]
     },
     "metadata": {},
     "output_type": "display_data"
    }
   ],
   "source": [
    "key = [r'$E$', r'$p_x$', r'$p_y$', r'$p_z$']\n",
    "\n",
    "for i,conservation in enumerate(zip(momentum_before.T, momentum_after.T)):\n",
    "    difference = conservation[0] - conservation[1]\n",
    "    bins = np.arange(-0.5,0.50001, 0.01)\n",
    "    plt.hist(difference, bins = bins, histtype = 'step', label = key[i])\n",
    "\n",
    "plt.title('Conservation of 4-Momentum')\n",
    "plt.xlabel('Before - After')\n",
    "plt.ylabel('Counts')\n",
    "plt.legend()\n",
    "plt.grid()"
   ]
  },
  {
   "cell_type": "code",
   "execution_count": null,
   "id": "2f2e0179-777d-4ace-9dce-def384028f23",
   "metadata": {},
   "outputs": [],
   "source": []
  }
 ],
 "metadata": {
  "kernelspec": {
   "display_name": "Python 3 (ipykernel)",
   "language": "python",
   "name": "python3"
  },
  "language_info": {
   "codemirror_mode": {
    "name": "ipython",
    "version": 3
   },
   "file_extension": ".py",
   "mimetype": "text/x-python",
   "name": "python",
   "nbconvert_exporter": "python",
   "pygments_lexer": "ipython3",
   "version": "3.11.3"
  }
 },
 "nbformat": 4,
 "nbformat_minor": 5
}
